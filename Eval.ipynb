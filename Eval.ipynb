{
 "cells": [
  {
   "cell_type": "markdown",
   "metadata": {},
   "source": [
    "# Imports"
   ]
  },
  {
   "cell_type": "code",
   "execution_count": 1,
   "metadata": {},
   "outputs": [],
   "source": [
    "from transformers import RobertaTokenizer, T5ForConditionalGeneration\n",
    "from Datasets import Api_Dataset, Mbpp_Dataset\n",
    "import torch\n",
    "import numpy as np\n",
    "from Datasets import Test_Dataset\n",
    "from torch.utils.data import DataLoader\n",
    "import pandas as pd\n",
    "from utils import get_module_names, get_module_by_name\n",
    "import torch.nn.utils.prune as prune\n",
    "from utils import get_module_by_name, get_module_names, get_bleu_score, fine_tune\n",
    "import torch.backends.cudnn as cudnn"
   ]
  },
  {
   "cell_type": "markdown",
   "metadata": {},
   "source": [
    "# Load Model"
   ]
  },
  {
   "cell_type": "code",
   "execution_count": null,
   "metadata": {},
   "outputs": [
    {
     "name": "stdout",
     "output_type": "stream",
     "text": [
      "Your device is cuda.\n"
     ]
    },
    {
     "name": "stderr",
     "output_type": "stream",
     "text": [
      "/opt/conda/lib/python3.10/site-packages/transformers/modeling_utils.py:415: FutureWarning: You are using `torch.load` with `weights_only=False` (the current default value), which uses the default pickle module implicitly. It is possible to construct malicious pickle data which will execute arbitrary code during unpickling (See https://github.com/pytorch/pytorch/blob/main/SECURITY.md#untrusted-models for more details). In a future release, the default value for `weights_only` will be flipped to `True`. This limits the functions that could be executed during unpickling. Arbitrary objects will no longer be allowed to be loaded via this mode unless they are explicitly allowlisted by the user via `torch.serialization.add_safe_globals`. We recommend you start setting `weights_only=True` for any use case where you don't have full control of the loaded file. Please open an issue on GitHub for any issues related to this experimental feature.\n",
      "  return torch.load(checkpoint_file, map_location=\"cpu\")\n"
     ]
    }
   ],
   "source": [
    "model_path = 'final_model'\n",
    "# Set up device\n",
    "device = torch.device('cuda' if torch.cuda.is_available() else 'cpu')\n",
    "print(f'Your device is {device}.')\n",
    "# Set up model and tokenizer\n",
    "model = T5ForConditionalGeneration.from_pretrained(model_path)\n",
    "tokenizer = RobertaTokenizer.from_pretrained(model_path)\n",
    "model = model.to(device)\n",
    "if device == 'cuda':\n",
    "    model = torch.nn.DataParallel(model)\n",
    "    cudnn.benchmark = True\n",
    "checkpoint = torch.load(f'./sparse_models/T5ForConditionalGeneration/exp1/sparse_weights_finetuned.pth')\n",
    "model.load_state_dict(checkpoint)"
   ]
  },
  {
   "cell_type": "markdown",
   "metadata": {},
   "source": [
    "# Load Datasets and Data Loaders"
   ]
  },
  {
   "cell_type": "markdown",
   "metadata": {},
   "source": [
    "## MBPP Dataset"
   ]
  },
  {
   "cell_type": "code",
   "execution_count": 3,
   "metadata": {},
   "outputs": [
    {
     "name": "stderr",
     "output_type": "stream",
     "text": [
      "/opt/conda/lib/python3.10/site-packages/huggingface_hub/file_download.py:797: FutureWarning: `resume_download` is deprecated and will be removed in version 1.0.0. Downloads always resume when possible. If you want to force a new download, use `force_download=True`.\n",
      "  warnings.warn(\n",
      "/opt/conda/lib/python3.10/site-packages/huggingface_hub/file_download.py:797: FutureWarning: `resume_download` is deprecated and will be removed in version 1.0.0. Downloads always resume when possible. If you want to force a new download, use `force_download=True`.\n",
      "  warnings.warn(\n",
      "/opt/conda/lib/python3.10/site-packages/huggingface_hub/file_download.py:797: FutureWarning: `resume_download` is deprecated and will be removed in version 1.0.0. Downloads always resume when possible. If you want to force a new download, use `force_download=True`.\n",
      "  warnings.warn(\n"
     ]
    }
   ],
   "source": [
    "Mbpp_train_dataset = Mbpp_Dataset('mbpp_train.csv', text_length=128, code_length=128)\n",
    "Mbpp_valid_dataset = Mbpp_Dataset('mbpp_valid.csv', text_length=128, code_length=128)\n",
    "\n",
    "mbpp_train_loader = DataLoader(Mbpp_train_dataset, batch_size=8, shuffle=True)\n",
    "mbpp_val_loader = DataLoader(Mbpp_valid_dataset, batch_size=8, shuffle=False)\n",
    "\n",
    "mbpp_test_dataset = Test_Dataset(data='data/mbpp/mbpp_test.csv', task_prefix='Generate code from natural language: (from Mbpp)')\n",
    "mbpp_test_loader = DataLoader(dataset=mbpp_test_dataset, batch_size=128, shuffle=False)\n",
    "MBPP_Test_DF = pd.read_csv('data/mbpp/mbpp_test.csv')"
   ]
  },
  {
   "cell_type": "markdown",
   "metadata": {},
   "source": [
    "## Python-API Dataset"
   ]
  },
  {
   "cell_type": "code",
   "execution_count": 47,
   "metadata": {},
   "outputs": [
    {
     "name": "stderr",
     "output_type": "stream",
     "text": [
      "/opt/conda/lib/python3.10/site-packages/huggingface_hub/file_download.py:797: FutureWarning: `resume_download` is deprecated and will be removed in version 1.0.0. Downloads always resume when possible. If you want to force a new download, use `force_download=True`.\n",
      "  warnings.warn(\n",
      "/opt/conda/lib/python3.10/site-packages/huggingface_hub/file_download.py:797: FutureWarning: `resume_download` is deprecated and will be removed in version 1.0.0. Downloads always resume when possible. If you want to force a new download, use `force_download=True`.\n",
      "  warnings.warn(\n",
      "/opt/conda/lib/python3.10/site-packages/huggingface_hub/file_download.py:797: FutureWarning: `resume_download` is deprecated and will be removed in version 1.0.0. Downloads always resume when possible. If you want to force a new download, use `force_download=True`.\n",
      "  warnings.warn(\n"
     ]
    }
   ],
   "source": [
    "Api_train_dataset = Api_Dataset('api-mined_train.csv', text_length=256, code_length=64)\n",
    "Api_valid_dataset = Api_Dataset('api-mined_valid.csv', text_length=256, code_length=64)\n",
    "\n",
    "api_train_loader = DataLoader(Api_train_dataset, batch_size=16, shuffle=True)\n",
    "api_val_loader = DataLoader(Api_valid_dataset, batch_size=16, shuffle=False)\n",
    "\n",
    "api_test_dataset = Test_Dataset(data='data/pythonapi/test_processing.csv', task_prefix='Generate code from natural language: (from PythonAPI)')\n",
    "api_test_loader = DataLoader(dataset=api_test_dataset, batch_size=256, shuffle=False)\n",
    "API_Test_DF = pd.read_csv('data/pythonapi/test_processing.csv')"
   ]
  },
  {
   "cell_type": "markdown",
   "metadata": {},
   "source": [
    "# Pruned Model Performance"
   ]
  },
  {
   "cell_type": "markdown",
   "metadata": {},
   "source": [
    "## MBPP Dataset"
   ]
  },
  {
   "cell_type": "code",
   "execution_count": 4,
   "metadata": {},
   "outputs": [
    {
     "name": "stdout",
     "output_type": "stream",
     "text": [
      "BLEU score: 0.13894053612378582\n"
     ]
    }
   ],
   "source": [
    "print(\"BLEU score:\", get_bleu_score(model, tokenizer, mbpp_test_loader, MBPP_Test_DF))"
   ]
  },
  {
   "cell_type": "markdown",
   "metadata": {},
   "source": [
    "## Python-API Dataset"
   ]
  },
  {
   "cell_type": "code",
   "execution_count": 6,
   "metadata": {},
   "outputs": [
    {
     "name": "stdout",
     "output_type": "stream",
     "text": [
      "BLEU Score: 0.2281461434656612\n"
     ]
    }
   ],
   "source": [
    "print(\"BLEU Score:\", get_bleu_score(model, tokenizer, api_test_loader, API_Test_DF))"
   ]
  },
  {
   "cell_type": "code",
   "execution_count": 6,
   "metadata": {},
   "outputs": [
    {
     "data": {
      "text/plain": [
       "['encoder.block.0.layer.0.SelfAttention.q',\n",
       " 'encoder.block.0.layer.0.SelfAttention.k',\n",
       " 'encoder.block.0.layer.0.SelfAttention.v',\n",
       " 'encoder.block.0.layer.0.SelfAttention.o',\n",
       " 'encoder.block.0.layer.0.SelfAttention.relative_attention_bias',\n",
       " 'encoder.block.0.layer.0.layer_norm',\n",
       " 'encoder.block.0.layer.1.DenseReluDense.wi',\n",
       " 'encoder.block.0.layer.1.DenseReluDense.wo',\n",
       " 'encoder.block.0.layer.1.layer_norm']"
      ]
     },
     "execution_count": 6,
     "metadata": {},
     "output_type": "execute_result"
    }
   ],
   "source": [
    "module_names = []\n",
    "get_module_names(model, '', module_names)\n",
    "module_names = [\n",
    "    'encoder.block.0.layer.0.SelfAttention.q',\n",
    "    'encoder.block.0.layer.0.SelfAttention.k',\n",
    "    'encoder.block.0.layer.0.SelfAttention.v',\n",
    "    'encoder.block.0.layer.0.SelfAttention.o',\n",
    "    'encoder.block.0.layer.0.SelfAttention.relative_attention_bias',\n",
    "    'encoder.block.0.layer.0.layer_norm',\n",
    "    'encoder.block.0.layer.1.DenseReluDense.wi',\n",
    "    'encoder.block.0.layer.1.DenseReluDense.wo',\n",
    "    'encoder.block.0.layer.1.layer_norm',\n",
    "]\n",
    "module_names"
   ]
  },
  {
   "cell_type": "code",
   "execution_count": 7,
   "metadata": {},
   "outputs": [
    {
     "data": {
      "text/plain": [
       "[(Linear(in_features=768, out_features=768, bias=False), 'weight'),\n",
       " (Linear(in_features=768, out_features=768, bias=False), 'weight'),\n",
       " (Linear(in_features=768, out_features=768, bias=False), 'weight'),\n",
       " (Linear(in_features=768, out_features=768, bias=False), 'weight'),\n",
       " (Embedding(32, 12), 'weight'),\n",
       " (T5LayerNorm(), 'weight'),\n",
       " (Linear(in_features=768, out_features=3072, bias=False), 'weight'),\n",
       " (Linear(in_features=3072, out_features=768, bias=False), 'weight'),\n",
       " (T5LayerNorm(), 'weight')]"
      ]
     },
     "execution_count": 7,
     "metadata": {},
     "output_type": "execute_result"
    }
   ],
   "source": [
    "parameters_to_prune = []\n",
    "pruneable_module_names = []\n",
    "for module_name in module_names:\n",
    "    if 'embed_tokens' in module_name:\n",
    "        continue\n",
    "    module = get_module_by_name(model, module_name)\n",
    "    try:\n",
    "        module.weight.shape\n",
    "        parameters_to_prune.append((module, 'weight'))\n",
    "        pruneable_module_names.append((module_name, np.prod(module.weight.shape)))\n",
    "    except:\n",
    "        pass\n",
    "parameters_to_prune[:10]\n",
    "# pruneable_module_names[:10]"
   ]
  },
  {
   "cell_type": "code",
   "execution_count": 10,
   "metadata": {},
   "outputs": [
    {
     "name": "stdout",
     "output_type": "stream",
     "text": [
      "encoder.block.0.layer.0.SelfAttention.q torch.Size([768, 768])\n",
      "encoder.block.0.layer.0.SelfAttention.k torch.Size([768, 768])\n",
      "encoder.block.0.layer.0.SelfAttention.v torch.Size([768, 768])\n",
      "encoder.block.0.layer.0.SelfAttention.o torch.Size([768, 768])\n",
      "encoder.block.0.layer.0.SelfAttention.relative_attention_bias torch.Size([32, 12])\n",
      "encoder.block.0.layer.0.layer_norm torch.Size([768])\n",
      "encoder.block.0.layer.1.DenseReluDense.wi torch.Size([3072, 768])\n",
      "encoder.block.0.layer.1.DenseReluDense.wo torch.Size([768, 3072])\n",
      "encoder.block.0.layer.1.layer_norm torch.Size([768])\n",
      "Total number of layers: 9\n",
      "Total number of parameters: 7079808\n",
      "Sparsity Levels: [0.2000003390842014, 0.2000003390842014, 0.2000003390842014, 0.2000003390842014, 0.20052083333333334, 0.20052083333333334, 0.19999991522894967, 0.19999991522894967, 0.20052083333333334]\n",
      "Sparse Parameters: 1415963\n",
      "Total Parameters: 7079808\n",
      "Net Sparsity: 0.2000001977454756\n"
     ]
    }
   ],
   "source": [
    "count = 0\n",
    "net_size = 0\n",
    "pairs = []\n",
    "sparsity_levels = []\n",
    "sparse_parameters = 0\n",
    "total_parameters = 0\n",
    "\n",
    "for name, param in model.named_parameters():\n",
    "    if param.requires_grad and name[:-7] in module_names:\n",
    "        print(name[:-7], param.size())\n",
    "        count += 1\n",
    "        net_size += np.prod(param.size())\n",
    "        pairs.append((name, np.prod(param.size())))\n",
    "        layer_weights = param.to('cpu')\n",
    "        layer_weights = np.array(layer_weights.detach())\n",
    "        sparsity = (layer_weights.size - np.count_nonzero(layer_weights))/layer_weights.size\n",
    "        sparsity_levels.append(sparsity)\n",
    "        sparse_parameters += (layer_weights.size - np.count_nonzero(layer_weights))\n",
    "        total_parameters += layer_weights.size\n",
    "\n",
    "print(f\"Total number of layers: {count}\")\n",
    "print(f\"Total number of parameters: {net_size}\")\n",
    "print(f\"Sparsity Levels: {sparsity_levels}\")\n",
    "print(f\"Sparse Parameters: {sparse_parameters}\")\n",
    "print(f\"Total Parameters: {total_parameters}\")\n",
    "print(f\"Net Sparsity: {sparse_parameters/total_parameters}\")"
   ]
  },
  {
   "cell_type": "markdown",
   "metadata": {},
   "source": [
    "# Fine-tuning"
   ]
  },
  {
   "cell_type": "markdown",
   "metadata": {},
   "source": [
    "## Apply the pruning masks"
   ]
  },
  {
   "cell_type": "code",
   "execution_count": 12,
   "metadata": {},
   "outputs": [],
   "source": [
    "# prune.global_unstructured(\n",
    "#     parameters_to_prune,\n",
    "#     pruning_method=prune.L1Unstructured,\n",
    "#     amount=SPARSITY,\n",
    "# )\n",
    "for module, name in parameters_to_prune:\n",
    "    prune.l1_unstructured(module, name=name, amount=SPARSITY)"
   ]
  },
  {
   "cell_type": "markdown",
   "metadata": {},
   "source": [
    "## Python-API Dataset"
   ]
  },
  {
   "cell_type": "code",
   "execution_count": 16,
   "metadata": {},
   "outputs": [
    {
     "name": "stdout",
     "output_type": "stream",
     "text": [
      "Iteration 1:\n",
      "Epoch 1/1:\n",
      "Train: batch: 10/750, Average loss:0.4205333173274994, Current loss:0.40900719165802\n",
      "Train: batch: 20/750, Average loss:0.4155389741063118, Current loss:0.32355183362960815\n",
      "Train: batch: 30/750, Average loss:0.40862095753351846, Current loss:0.31301403045654297\n",
      "Train: batch: 40/750, Average loss:0.41205747947096827, Current loss:0.6436066627502441\n",
      "Train: batch: 50/750, Average loss:0.405461967587471, Current loss:0.3688463866710663\n",
      "Train: batch: 60/750, Average loss:0.4102784335613251, Current loss:0.3638272285461426\n",
      "Train: batch: 70/750, Average loss:0.40467696615627835, Current loss:0.5133880972862244\n",
      "Train: batch: 80/750, Average loss:0.3950720202177763, Current loss:0.3146379888057709\n",
      "Train: batch: 90/750, Average loss:0.3852678866850005, Current loss:0.28135284781455994\n",
      "Train: batch: 100/750, Average loss:0.38091221541166304, Current loss:0.22692283987998962\n",
      "Train: batch: 110/750, Average loss:0.37284686470573597, Current loss:0.33059027791023254\n",
      "Train: batch: 120/750, Average loss:0.36845517021914326, Current loss:0.23605892062187195\n",
      "Train: batch: 130/750, Average loss:0.3626718656374858, Current loss:0.2120259702205658\n",
      "Train: batch: 140/750, Average loss:0.3565570505602019, Current loss:0.18929477035999298\n",
      "Train: batch: 150/750, Average loss:0.3522414670387904, Current loss:0.23563262820243835\n",
      "Train: batch: 160/750, Average loss:0.3479220344685018, Current loss:0.2751254439353943\n",
      "Train: batch: 170/750, Average loss:0.34426948235315435, Current loss:0.2412436306476593\n",
      "Train: batch: 180/750, Average loss:0.3386684364742703, Current loss:0.2102944552898407\n",
      "Train: batch: 190/750, Average loss:0.3331566134565755, Current loss:0.3006112575531006\n",
      "Train: batch: 200/750, Average loss:0.32904609881341457, Current loss:0.22258085012435913\n",
      "Train: batch: 210/750, Average loss:0.324778848744574, Current loss:0.28024157881736755\n",
      "Train: batch: 220/750, Average loss:0.32136532027613035, Current loss:0.29935118556022644\n",
      "Train: batch: 230/750, Average loss:0.3177775729609572, Current loss:0.22089572250843048\n",
      "Train: batch: 240/750, Average loss:0.3126988962913553, Current loss:0.20016413927078247\n",
      "Train: batch: 250/750, Average loss:0.3086108875274658, Current loss:0.1810888648033142\n",
      "Train: batch: 260/750, Average loss:0.305709229524319, Current loss:0.17569516599178314\n",
      "Train: batch: 270/750, Average loss:0.3031310190205221, Current loss:0.19453586637973785\n",
      "Train: batch: 280/750, Average loss:0.3001494969640459, Current loss:0.19742050766944885\n",
      "Train: batch: 290/750, Average loss:0.2963925763193903, Current loss:0.256754606962204\n",
      "Train: batch: 300/750, Average loss:0.2939343095570803, Current loss:0.18735307455062866\n",
      "Train: batch: 310/750, Average loss:0.2925914199361878, Current loss:0.2205667942762375\n",
      "Train: batch: 320/750, Average loss:0.28936630056705326, Current loss:0.16359399259090424\n",
      "Train: batch: 330/750, Average loss:0.28642410904620635, Current loss:0.2622837722301483\n",
      "Train: batch: 340/750, Average loss:0.2835820951663396, Current loss:0.24417701363563538\n",
      "Train: batch: 350/750, Average loss:0.2805452950298786, Current loss:0.1276070773601532\n",
      "Train: batch: 360/750, Average loss:0.27856083497818973, Current loss:0.18883109092712402\n",
      "Train: batch: 370/750, Average loss:0.2752014220566363, Current loss:0.1816689521074295\n",
      "Train: batch: 380/750, Average loss:0.2724482414753813, Current loss:0.1965278834104538\n",
      "Train: batch: 390/750, Average loss:0.26985312717465254, Current loss:0.20647603273391724\n",
      "Train: batch: 400/750, Average loss:0.2676211586780846, Current loss:0.19580227136611938\n",
      "Train: batch: 410/750, Average loss:0.2652730501279598, Current loss:0.10830507427453995\n",
      "Train: batch: 420/750, Average loss:0.2638140986185698, Current loss:0.30196264386177063\n",
      "Train: batch: 430/750, Average loss:0.26217198881299, Current loss:0.06563440710306168\n",
      "Train: batch: 440/750, Average loss:0.26046220396052705, Current loss:0.28571659326553345\n",
      "Train: batch: 450/750, Average loss:0.25863050134645565, Current loss:0.18026778101921082\n",
      "Train: batch: 460/750, Average loss:0.25606145873341873, Current loss:0.09827619791030884\n",
      "Train: batch: 470/750, Average loss:0.2541493723684169, Current loss:0.20342156291007996\n",
      "Train: batch: 480/750, Average loss:0.25248455042019485, Current loss:0.17489220201969147\n",
      "Train: batch: 490/750, Average loss:0.2510610870256716, Current loss:0.17727826535701752\n",
      "Train: batch: 500/750, Average loss:0.2489930440634489, Current loss:0.10388469696044922\n",
      "Train: batch: 510/750, Average loss:0.24733121424329046, Current loss:0.1263768970966339\n",
      "Train: batch: 520/750, Average loss:0.24592379790086014, Current loss:0.16057921946048737\n",
      "Train: batch: 530/750, Average loss:0.24436451757572733, Current loss:0.10072103142738342\n",
      "Train: batch: 540/750, Average loss:0.2425359134182886, Current loss:0.17775215208530426\n",
      "Train: batch: 550/750, Average loss:0.24048874582079324, Current loss:0.06181399151682854\n",
      "Train: batch: 560/750, Average loss:0.23906235907093754, Current loss:0.14783017337322235\n",
      "Train: batch: 570/750, Average loss:0.2376258038180439, Current loss:0.19261012971401215\n",
      "Train: batch: 580/750, Average loss:0.2363315110640793, Current loss:0.13046090304851532\n",
      "Train: batch: 590/750, Average loss:0.23464028068139392, Current loss:0.14933007955551147\n",
      "Train: batch: 600/750, Average loss:0.2336395087155203, Current loss:0.17397363483905792\n",
      "Train: batch: 610/750, Average loss:0.2323395410949578, Current loss:0.132058247923851\n",
      "Train: batch: 620/750, Average loss:0.23099591491082982, Current loss:0.15956631302833557\n",
      "Train: batch: 630/750, Average loss:0.22954638650611278, Current loss:0.09431511908769608\n",
      "Train: batch: 640/750, Average loss:0.22822625563130713, Current loss:0.12457537651062012\n",
      "Train: batch: 650/750, Average loss:0.22679370985008204, Current loss:0.14545109868049622\n",
      "Train: batch: 660/750, Average loss:0.22538395224308425, Current loss:0.0985957458615303\n",
      "Train: batch: 670/750, Average loss:0.2240931509646462, Current loss:0.16796347498893738\n",
      "Train: batch: 680/750, Average loss:0.22244274521465687, Current loss:0.12260658293962479\n",
      "Train: batch: 690/750, Average loss:0.22135428212367106, Current loss:0.2345077097415924\n",
      "Train: batch: 700/750, Average loss:0.21999217498515333, Current loss:0.05776028707623482\n",
      "Train: batch: 710/750, Average loss:0.2187042931540751, Current loss:0.10981239378452301\n",
      "Train: batch: 720/750, Average loss:0.21753783262231283, Current loss:0.14761532843112946\n",
      "Train: batch: 730/750, Average loss:0.21614009681833934, Current loss:0.1427605152130127\n",
      "Train: batch: 740/750, Average loss:0.2148034610559006, Current loss:0.07581459730863571\n",
      "Train: batch: 750/750, Average loss:0.21357575234770776, Current loss:0.11500091105699539\n",
      "Train Loss: 0.21357575234770776\n",
      "Valid: batch: 10/94, Average loss:0.03331286478787661, Current Loss:0.052042387425899506\n",
      "Valid: batch: 20/94, Average loss:0.03369965832680464, Current Loss:0.033434152603149414\n",
      "Valid: batch: 30/94, Average loss:0.034077776006112497, Current Loss:0.024945920333266258\n",
      "Valid: batch: 40/94, Average loss:0.030851850064937025, Current Loss:0.025465533137321472\n",
      "Valid: batch: 50/94, Average loss:0.030465540941804647, Current Loss:0.019914528355002403\n",
      "Valid: batch: 60/94, Average loss:0.029365901610193153, Current Loss:0.016283458098769188\n",
      "Valid: batch: 70/94, Average loss:0.028511335840448737, Current Loss:0.055074021220207214\n",
      "Valid: batch: 80/94, Average loss:0.028055331198265775, Current Loss:0.037599802017211914\n",
      "Valid: batch: 90/94, Average loss:0.028649370263641078, Current Loss:0.04639194905757904\n",
      "Valid Loss: 0.028106449196669967\n",
      "BLEU Score after 1 iterations: 0.29240248626989446\n"
     ]
    }
   ],
   "source": [
    "for iter in range(1):\n",
    "    print(f\"Iteration {iter+1}:\")\n",
    "    fine_tune(model, api_train_loader, api_val_loader, epochs=1, learning_rate=1e-6)\n",
    "    print(f\"BLEU Score after {(iter+1)} iterations:\", get_bleu_score(model, tokenizer, api_test_loader, API_Test_DF))"
   ]
  },
  {
   "cell_type": "markdown",
   "metadata": {},
   "source": [
    "## MBPP Dataset"
   ]
  },
  {
   "cell_type": "code",
   "execution_count": 13,
   "metadata": {},
   "outputs": [
    {
     "name": "stdout",
     "output_type": "stream",
     "text": [
      "Iteration 1:\n",
      "Epoch 1/1:\n",
      "Train: batch: 10/98, Average loss:0.055892310477793215, Current loss:0.016848690807819366\n",
      "Train: batch: 20/98, Average loss:0.05721310395747423, Current loss:0.07930701225996017\n",
      "Train: batch: 30/98, Average loss:0.06504064599672953, Current loss:0.02265237271785736\n",
      "Train: batch: 40/98, Average loss:0.06531971795484423, Current loss:0.03177298977971077\n",
      "Train: batch: 50/98, Average loss:0.06365624591708183, Current loss:0.07167372852563858\n",
      "Train: batch: 60/98, Average loss:0.06758188474923373, Current loss:0.05032338947057724\n",
      "Train: batch: 70/98, Average loss:0.06796416826546192, Current loss:0.12004649639129639\n",
      "Train: batch: 80/98, Average loss:0.06716325941961258, Current loss:0.037740327417850494\n",
      "Train: batch: 90/98, Average loss:0.06781859871827894, Current loss:0.08000339567661285\n",
      "Train: batch: 98/98, Average loss:0.06636714784200398, Current loss:0.02468978427350521\n",
      "Train Loss: 0.06636714784200398\n",
      "Valid: batch: 10/13, Average loss:0.03492530600633472, Current Loss:0.03187909349799156\n",
      "Valid Loss: 0.03247733571333811\n",
      "BLEU score after 1 iterations: 0.1348458358766656\n",
      "Iteration 2:\n",
      "Epoch 1/1:\n",
      "Train: batch: 10/98, Average loss:0.05941486954689026, Current loss:0.06101328134536743\n",
      "Train: batch: 20/98, Average loss:0.0585615795571357, Current loss:0.01719885878264904\n",
      "Train: batch: 30/98, Average loss:0.06744793613130848, Current loss:0.09232867509126663\n",
      "Train: batch: 40/98, Average loss:0.06404781637247652, Current loss:0.034213025122880936\n",
      "Train: batch: 50/98, Average loss:0.0637895735539496, Current loss:0.09253635257482529\n",
      "Train: batch: 60/98, Average loss:0.06414075740613043, Current loss:0.05597139894962311\n",
      "Train: batch: 70/98, Average loss:0.06399663166542138, Current loss:0.027484513819217682\n",
      "Train: batch: 80/98, Average loss:0.0645910432911478, Current loss:0.04952161759138107\n",
      "Train: batch: 90/98, Average loss:0.06569964845354358, Current loss:0.06552629917860031\n",
      "Train: batch: 98/98, Average loss:0.06597356510595703, Current loss:0.01022711768746376\n",
      "Train Loss: 0.06597356510595703\n",
      "Valid: batch: 10/13, Average loss:0.03441254561766982, Current Loss:0.03161957487463951\n",
      "Valid Loss: 0.031952566863485396\n",
      "BLEU score after 2 iterations: 0.1352368394352109\n",
      "Iteration 3:\n",
      "Epoch 1/1:\n",
      "Train: batch: 10/98, Average loss:0.05562717616558075, Current loss:0.020839937031269073\n",
      "Train: batch: 20/98, Average loss:0.06029372583143413, Current loss:0.12800472974777222\n",
      "Train: batch: 30/98, Average loss:0.05918997287129362, Current loss:0.09664089232683182\n",
      "Train: batch: 40/98, Average loss:0.06050253331195563, Current loss:0.06941843777894974\n",
      "Train: batch: 50/98, Average loss:0.058825893104076384, Current loss:0.02170582488179207\n",
      "Train: batch: 60/98, Average loss:0.06140836986402671, Current loss:0.10811030864715576\n",
      "Train: batch: 70/98, Average loss:0.060243489393698314, Current loss:0.11587638407945633\n",
      "Train: batch: 80/98, Average loss:0.06217499562771991, Current loss:0.027092400938272476\n",
      "Train: batch: 90/98, Average loss:0.06318472699365682, Current loss:0.0662573054432869\n",
      "Train: batch: 98/98, Average loss:0.06302772879562511, Current loss:0.07927246391773224\n",
      "Train Loss: 0.06302772879562511\n",
      "Valid: batch: 10/13, Average loss:0.03403079144190997, Current Loss:0.03137113153934479\n",
      "Valid Loss: 0.0315697302240341\n",
      "BLEU score after 3 iterations: 0.13483448974190115\n"
     ]
    }
   ],
   "source": [
    "for iter in range(3):\n",
    "    print(f\"Iteration {iter+1}:\")\n",
    "    fine_tune(model, mbpp_train_loader, mbpp_val_loader, epochs=1, learning_rate=1e-6)\n",
    "    print(f\"BLEU score after {(iter+1)} iterations:\", get_bleu_score(model, tokenizer, mbpp_test_loader, MBPP_Test_DF))"
   ]
  },
  {
   "cell_type": "markdown",
   "metadata": {},
   "source": [
    "## Remove the masks (make them permanent)"
   ]
  },
  {
   "cell_type": "code",
   "execution_count": 14,
   "metadata": {},
   "outputs": [],
   "source": [
    "for module, _ in parameters_to_prune:\n",
    "    prune.remove(module, 'weight')"
   ]
  },
  {
   "cell_type": "markdown",
   "metadata": {},
   "source": [
    "# Performance after Fine-tuning"
   ]
  },
  {
   "cell_type": "markdown",
   "metadata": {},
   "source": [
    "## MBPP Dataset"
   ]
  },
  {
   "cell_type": "code",
   "execution_count": 15,
   "metadata": {},
   "outputs": [
    {
     "name": "stdout",
     "output_type": "stream",
     "text": [
      "BLEU score: 0.13483448974190115\n"
     ]
    }
   ],
   "source": [
    "print(\"BLEU score:\", get_bleu_score(model, tokenizer, mbpp_test_loader, MBPP_Test_DF))"
   ]
  },
  {
   "cell_type": "markdown",
   "metadata": {},
   "source": [
    "## Python-API Dataset"
   ]
  },
  {
   "cell_type": "code",
   "execution_count": 20,
   "metadata": {},
   "outputs": [
    {
     "name": "stdout",
     "output_type": "stream",
     "text": [
      "BLEU Score: 0.2917530479398626\n"
     ]
    }
   ],
   "source": [
    "print(\"BLEU Score:\", get_bleu_score(model, tokenizer, api_test_loader, API_Test_DF))"
   ]
  },
  {
   "cell_type": "markdown",
   "metadata": {},
   "source": [
    "# Save Model"
   ]
  },
  {
   "cell_type": "code",
   "execution_count": 21,
   "metadata": {},
   "outputs": [
    {
     "data": {
      "text/plain": [
       "('model/magnitude_pruning_20/tokenizer_config.json',\n",
       " 'model/magnitude_pruning_20/special_tokens_map.json',\n",
       " 'model/magnitude_pruning_20/vocab.json',\n",
       " 'model/magnitude_pruning_20/merges.txt',\n",
       " 'model/magnitude_pruning_20/added_tokens.json')"
      ]
     },
     "execution_count": 21,
     "metadata": {},
     "output_type": "execute_result"
    }
   ],
   "source": [
    "model.save_pretrained('model/magnitude_pruning_20')\n",
    "tokenizer.save_pretrained('model/magnitude_pruning_20')"
   ]
  }
 ],
 "metadata": {
  "kernelspec": {
   "display_name": "base",
   "language": "python",
   "name": "python3"
  },
  "language_info": {
   "codemirror_mode": {
    "name": "ipython",
    "version": 3
   },
   "file_extension": ".py",
   "mimetype": "text/x-python",
   "name": "python",
   "nbconvert_exporter": "python",
   "pygments_lexer": "ipython3",
   "version": "3.10.15"
  }
 },
 "nbformat": 4,
 "nbformat_minor": 2
}
