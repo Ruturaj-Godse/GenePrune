{
 "cells": [
  {
   "cell_type": "markdown",
   "metadata": {},
   "source": [
    "# Imports"
   ]
  },
  {
   "cell_type": "code",
   "execution_count": 1,
   "metadata": {},
   "outputs": [],
   "source": [
    "from transformers import RobertaTokenizer, T5ForConditionalGeneration\n",
    "from Datasets import Api_Dataset, Mbpp_Dataset\n",
    "import torch\n",
    "import numpy as np\n",
    "from Datasets import Test_Dataset\n",
    "from torch.utils.data import DataLoader\n",
    "import pandas as pd\n",
    "from utils import get_module_names, get_module_by_name\n",
    "import torch.nn.utils.prune as prune\n",
    "from utils import get_module_by_name, get_module_names, get_bleu_score, fine_tune\n",
    "import torch.backends.cudnn as cudnn\n",
    "import pickle\n",
    "import os"
   ]
  },
  {
   "cell_type": "markdown",
   "metadata": {},
   "source": [
    "# Load Model"
   ]
  },
  {
   "cell_type": "code",
   "execution_count": 2,
   "metadata": {},
   "outputs": [
    {
     "name": "stdout",
     "output_type": "stream",
     "text": [
      "Your device is cuda.\n"
     ]
    },
    {
     "name": "stderr",
     "output_type": "stream",
     "text": [
      "/opt/conda/lib/python3.10/site-packages/transformers/modeling_utils.py:415: FutureWarning: You are using `torch.load` with `weights_only=False` (the current default value), which uses the default pickle module implicitly. It is possible to construct malicious pickle data which will execute arbitrary code during unpickling (See https://github.com/pytorch/pytorch/blob/main/SECURITY.md#untrusted-models for more details). In a future release, the default value for `weights_only` will be flipped to `True`. This limits the functions that could be executed during unpickling. Arbitrary objects will no longer be allowed to be loaded via this mode unless they are explicitly allowlisted by the user via `torch.serialization.add_safe_globals`. We recommend you start setting `weights_only=True` for any use case where you don't have full control of the loaded file. Please open an issue on GitHub for any issues related to this experimental feature.\n",
      "  return torch.load(checkpoint_file, map_location=\"cpu\")\n",
      "/var/tmp/ipykernel_77346/1604244839.py:14: FutureWarning: You are using `torch.load` with `weights_only=False` (the current default value), which uses the default pickle module implicitly. It is possible to construct malicious pickle data which will execute arbitrary code during unpickling (See https://github.com/pytorch/pytorch/blob/main/SECURITY.md#untrusted-models for more details). In a future release, the default value for `weights_only` will be flipped to `True`. This limits the functions that could be executed during unpickling. Arbitrary objects will no longer be allowed to be loaded via this mode unless they are explicitly allowlisted by the user via `torch.serialization.add_safe_globals`. We recommend you start setting `weights_only=True` for any use case where you don't have full control of the loaded file. Please open an issue on GitHub for any issues related to this experimental feature.\n",
      "  checkpoint = torch.load(f'./sparse_models/T5ForConditionalGeneration/{exp_name}/sparse_weights.pth')\n"
     ]
    },
    {
     "data": {
      "text/plain": [
       "<All keys matched successfully>"
      ]
     },
     "execution_count": 2,
     "metadata": {},
     "output_type": "execute_result"
    }
   ],
   "source": [
    "model_path = 'final_model'\n",
    "# Set up device\n",
    "device = torch.device('cuda' if torch.cuda.is_available() else 'cpu')\n",
    "print(f'Your device is {device}.')\n",
    "# Set up model and tokenizer\n",
    "model = T5ForConditionalGeneration.from_pretrained(model_path)\n",
    "tokenizer = RobertaTokenizer.from_pretrained(model_path)\n",
    "model = model.to(device)\n",
    "if device == 'cuda':\n",
    "    model = torch.nn.DataParallel(model)\n",
    "    cudnn.benchmark = True\n",
    "\n",
    "exp_name = 'exp_0.2'\n",
    "checkpoint = torch.load(f'./sparse_models/T5ForConditionalGeneration/{exp_name}/sparse_weights.pth')\n",
    "model.load_state_dict(checkpoint)"
   ]
  },
  {
   "cell_type": "markdown",
   "metadata": {},
   "source": [
    "# Load Datasets and Data Loaders"
   ]
  },
  {
   "cell_type": "markdown",
   "metadata": {},
   "source": [
    "## MBPP Dataset"
   ]
  },
  {
   "cell_type": "code",
   "execution_count": 3,
   "metadata": {},
   "outputs": [
    {
     "name": "stderr",
     "output_type": "stream",
     "text": [
      "/opt/conda/lib/python3.10/site-packages/huggingface_hub/file_download.py:797: FutureWarning: `resume_download` is deprecated and will be removed in version 1.0.0. Downloads always resume when possible. If you want to force a new download, use `force_download=True`.\n",
      "  warnings.warn(\n",
      "/opt/conda/lib/python3.10/site-packages/huggingface_hub/file_download.py:797: FutureWarning: `resume_download` is deprecated and will be removed in version 1.0.0. Downloads always resume when possible. If you want to force a new download, use `force_download=True`.\n",
      "  warnings.warn(\n",
      "/opt/conda/lib/python3.10/site-packages/huggingface_hub/file_download.py:797: FutureWarning: `resume_download` is deprecated and will be removed in version 1.0.0. Downloads always resume when possible. If you want to force a new download, use `force_download=True`.\n",
      "  warnings.warn(\n"
     ]
    }
   ],
   "source": [
    "Mbpp_train_dataset = Mbpp_Dataset('mbpp_train.csv', text_length=128, code_length=128)\n",
    "Mbpp_valid_dataset = Mbpp_Dataset('mbpp_valid.csv', text_length=128, code_length=128)\n",
    "\n",
    "mbpp_train_loader = DataLoader(Mbpp_train_dataset, batch_size=8, shuffle=True)\n",
    "mbpp_val_loader = DataLoader(Mbpp_valid_dataset, batch_size=8, shuffle=False)\n",
    "\n",
    "mbpp_test_dataset = Test_Dataset(data='data/mbpp/mbpp_test.csv', task_prefix='Generate code from natural language: (from Mbpp)')\n",
    "mbpp_test_loader = DataLoader(dataset=mbpp_test_dataset, batch_size=128, shuffle=False)\n",
    "MBPP_Test_DF = pd.read_csv('data/mbpp/mbpp_test.csv')"
   ]
  },
  {
   "cell_type": "markdown",
   "metadata": {},
   "source": [
    "## Python-API Dataset"
   ]
  },
  {
   "cell_type": "code",
   "execution_count": 47,
   "metadata": {},
   "outputs": [
    {
     "name": "stderr",
     "output_type": "stream",
     "text": [
      "/opt/conda/lib/python3.10/site-packages/huggingface_hub/file_download.py:797: FutureWarning: `resume_download` is deprecated and will be removed in version 1.0.0. Downloads always resume when possible. If you want to force a new download, use `force_download=True`.\n",
      "  warnings.warn(\n",
      "/opt/conda/lib/python3.10/site-packages/huggingface_hub/file_download.py:797: FutureWarning: `resume_download` is deprecated and will be removed in version 1.0.0. Downloads always resume when possible. If you want to force a new download, use `force_download=True`.\n",
      "  warnings.warn(\n",
      "/opt/conda/lib/python3.10/site-packages/huggingface_hub/file_download.py:797: FutureWarning: `resume_download` is deprecated and will be removed in version 1.0.0. Downloads always resume when possible. If you want to force a new download, use `force_download=True`.\n",
      "  warnings.warn(\n"
     ]
    }
   ],
   "source": [
    "Api_train_dataset = Api_Dataset('api-mined_train.csv', text_length=256, code_length=64)\n",
    "Api_valid_dataset = Api_Dataset('api-mined_valid.csv', text_length=256, code_length=64)\n",
    "\n",
    "api_train_loader = DataLoader(Api_train_dataset, batch_size=16, shuffle=True)\n",
    "api_val_loader = DataLoader(Api_valid_dataset, batch_size=16, shuffle=False)\n",
    "\n",
    "api_test_dataset = Test_Dataset(data='data/pythonapi/test_processing.csv', task_prefix='Generate code from natural language: (from PythonAPI)')\n",
    "api_test_loader = DataLoader(dataset=api_test_dataset, batch_size=256, shuffle=False)\n",
    "API_Test_DF = pd.read_csv('data/pythonapi/test_processing.csv')"
   ]
  },
  {
   "cell_type": "markdown",
   "metadata": {},
   "source": [
    "# Pruned Model Performance"
   ]
  },
  {
   "cell_type": "markdown",
   "metadata": {},
   "source": [
    "## MBPP Dataset"
   ]
  },
  {
   "cell_type": "code",
   "execution_count": 4,
   "metadata": {},
   "outputs": [
    {
     "name": "stdout",
     "output_type": "stream",
     "text": [
      "BLEU score: 0.14992665956103046\n"
     ]
    }
   ],
   "source": [
    "print(\"BLEU score:\", get_bleu_score(model, tokenizer, mbpp_test_loader, MBPP_Test_DF))"
   ]
  },
  {
   "cell_type": "markdown",
   "metadata": {},
   "source": [
    "## Python-API Dataset"
   ]
  },
  {
   "cell_type": "code",
   "execution_count": 6,
   "metadata": {},
   "outputs": [
    {
     "name": "stdout",
     "output_type": "stream",
     "text": [
      "BLEU Score: 0.2281461434656612\n"
     ]
    }
   ],
   "source": [
    "print(\"BLEU Score:\", get_bleu_score(model, tokenizer, api_test_loader, API_Test_DF))"
   ]
  },
  {
   "cell_type": "markdown",
   "metadata": {},
   "source": [
    "# Check Sparsity"
   ]
  },
  {
   "cell_type": "code",
   "execution_count": 5,
   "metadata": {},
   "outputs": [
    {
     "data": {
      "text/plain": [
       "['encoder.block.0.layer.0.SelfAttention.q',\n",
       " 'encoder.block.0.layer.0.SelfAttention.k',\n",
       " 'encoder.block.0.layer.0.SelfAttention.v',\n",
       " 'encoder.block.0.layer.0.SelfAttention.o',\n",
       " 'encoder.block.0.layer.0.SelfAttention.relative_attention_bias',\n",
       " 'encoder.block.0.layer.0.layer_norm',\n",
       " 'encoder.block.0.layer.1.DenseReluDense.wi',\n",
       " 'encoder.block.0.layer.1.DenseReluDense.wo',\n",
       " 'encoder.block.0.layer.1.layer_norm']"
      ]
     },
     "execution_count": 5,
     "metadata": {},
     "output_type": "execute_result"
    }
   ],
   "source": [
    "module_names = []\n",
    "get_module_names(model, '', module_names)\n",
    "module_names = [\n",
    "    'encoder.block.0.layer.0.SelfAttention.q',\n",
    "    'encoder.block.0.layer.0.SelfAttention.k',\n",
    "    'encoder.block.0.layer.0.SelfAttention.v',\n",
    "    'encoder.block.0.layer.0.SelfAttention.o',\n",
    "    'encoder.block.0.layer.0.SelfAttention.relative_attention_bias',\n",
    "    'encoder.block.0.layer.0.layer_norm',\n",
    "    'encoder.block.0.layer.1.DenseReluDense.wi',\n",
    "    'encoder.block.0.layer.1.DenseReluDense.wo',\n",
    "    'encoder.block.0.layer.1.layer_norm',\n",
    "]\n",
    "module_names"
   ]
  },
  {
   "cell_type": "code",
   "execution_count": 6,
   "metadata": {},
   "outputs": [
    {
     "data": {
      "text/plain": [
       "[(Linear(in_features=768, out_features=768, bias=False), 'weight'),\n",
       " (Linear(in_features=768, out_features=768, bias=False), 'weight'),\n",
       " (Linear(in_features=768, out_features=768, bias=False), 'weight'),\n",
       " (Linear(in_features=768, out_features=768, bias=False), 'weight'),\n",
       " (Embedding(32, 12), 'weight'),\n",
       " (T5LayerNorm(), 'weight'),\n",
       " (Linear(in_features=768, out_features=3072, bias=False), 'weight'),\n",
       " (Linear(in_features=3072, out_features=768, bias=False), 'weight'),\n",
       " (T5LayerNorm(), 'weight')]"
      ]
     },
     "execution_count": 6,
     "metadata": {},
     "output_type": "execute_result"
    }
   ],
   "source": [
    "parameters_to_prune = []\n",
    "pruneable_module_names = []\n",
    "for module_name in module_names:\n",
    "    if 'embed_tokens' in module_name:\n",
    "        continue\n",
    "    module = get_module_by_name(model, module_name)\n",
    "    try:\n",
    "        module.weight.shape\n",
    "        parameters_to_prune.append((module, 'weight'))\n",
    "        pruneable_module_names.append((module_name, np.prod(module.weight.shape)))\n",
    "    except:\n",
    "        pass\n",
    "parameters_to_prune[:10]\n",
    "# pruneable_module_names[:10]"
   ]
  },
  {
   "cell_type": "code",
   "execution_count": 7,
   "metadata": {},
   "outputs": [
    {
     "name": "stdout",
     "output_type": "stream",
     "text": [
      "encoder.block.0.layer.0.SelfAttention.q torch.Size([768, 768])\n",
      "encoder.block.0.layer.0.SelfAttention.k torch.Size([768, 768])\n",
      "encoder.block.0.layer.0.SelfAttention.v torch.Size([768, 768])\n",
      "encoder.block.0.layer.0.SelfAttention.o torch.Size([768, 768])\n",
      "encoder.block.0.layer.0.SelfAttention.relative_attention_bias torch.Size([32, 12])\n",
      "encoder.block.0.layer.0.layer_norm torch.Size([768])\n",
      "encoder.block.0.layer.1.DenseReluDense.wi torch.Size([3072, 768])\n",
      "encoder.block.0.layer.1.DenseReluDense.wo torch.Size([768, 3072])\n",
      "encoder.block.0.layer.1.layer_norm torch.Size([768])\n",
      "Total number of layers: 9\n",
      "Total number of parameters: 7079808\n",
      "Sparsity Levels: [0.6037156846788194, 0.5508287217881944, 0.6263020833333334, 0.14462449815538195, 0.34375, 0.2708333333333333, 0.4542893303765191, 0.5067676968044705, 0.048177083333333336]\n",
      "Sparse Parameters: 3403484\n",
      "Total Parameters: 7079808\n",
      "Net Sparsity: 0.48073111587206885\n"
     ]
    }
   ],
   "source": [
    "count = 0\n",
    "net_size = 0\n",
    "pairs = []\n",
    "sparsity_levels = []\n",
    "sparse_parameters = 0\n",
    "total_parameters = 0\n",
    "\n",
    "for name, param in model.named_parameters():\n",
    "    if param.requires_grad and name[:-7] in module_names:\n",
    "        print(name[:-7], param.size())\n",
    "        count += 1\n",
    "        net_size += np.prod(param.size())\n",
    "        pairs.append((name, np.prod(param.size())))\n",
    "        layer_weights = param.to('cpu')\n",
    "        layer_weights = np.array(layer_weights.detach())\n",
    "        sparsity = (layer_weights.size - np.count_nonzero(layer_weights))/layer_weights.size\n",
    "        sparsity_levels.append(sparsity)\n",
    "        sparse_parameters += (layer_weights.size - np.count_nonzero(layer_weights))\n",
    "        total_parameters += layer_weights.size\n",
    "\n",
    "print(f\"Total number of layers: {count}\")\n",
    "print(f\"Total number of parameters: {net_size}\")\n",
    "print(f\"Sparsity Levels: {sparsity_levels}\")\n",
    "print(f\"Sparse Parameters: {sparse_parameters}\")\n",
    "print(f\"Total Parameters: {total_parameters}\")\n",
    "print(f\"Net Sparsity: {sparse_parameters/total_parameters}\")"
   ]
  },
  {
   "cell_type": "markdown",
   "metadata": {},
   "source": [
    "# Fine-tuning"
   ]
  },
  {
   "cell_type": "markdown",
   "metadata": {},
   "source": [
    "## Apply the pruning masks"
   ]
  },
  {
   "cell_type": "code",
   "execution_count": 8,
   "metadata": {},
   "outputs": [],
   "source": [
    "class CustomPruningMethod(prune.BasePruningMethod):\n",
    "    \"\"\"\n",
    "    A custom pruning method that extends PyTorch's BasePruningMethod to implement\n",
    "    an unstructured pruning technique using a solution mask provided.\n",
    "\n",
    "    Attributes:\n",
    "        PRUNING_TYPE (str): Defines the type of pruning as 'unstructured'. This means\n",
    "            the pruning is not restricted to any particular structure like channels or\n",
    "            layers, but can occur at individual weight levels across the model.\n",
    "\n",
    "    Methods:\n",
    "        compute_mask(t, default_mask):\n",
    "            Computes a new mask for the tensor 't' using a globally defined 'solution_mask'\n",
    "            that specifies which elements of the tensor to prune.\n",
    "    \"\"\"\n",
    "\n",
    "    PRUNING_TYPE = 'unstructured'\n",
    "\n",
    "    def compute_mask(self, t, default_mask):\n",
    "        \"\"\"\n",
    "        Computes and applies a custom pruning mask to the given tensor.\n",
    "        \n",
    "        Parameters:\n",
    "            t (torch.Tensor): The tensor to be pruned.\n",
    "            default_mask (torch.Tensor): The default binary mask provided by the pruning method.\n",
    "        \n",
    "        Returns:\n",
    "            torch.Tensor: A new mask tensor that has been customized based on the global 'solution_mask'.\n",
    "        \"\"\"\n",
    "\n",
    "        global solution_mask\n",
    "        if len(solution_mask) != t.numel():\n",
    "            mask = torch.ones(t.shape)\n",
    "        else:\n",
    "            mask = torch.reshape(solution_mask, t.shape)\n",
    "        mask = mask.to('cuda')\n",
    "        return mask\n",
    "    \n",
    "    \n",
    "def custom_unstructured(module, name):\n",
    "    \"\"\"\n",
    "    Applies the CustomPruningMethod to a specific module of a neural network. \n",
    "    This function allows for the unstructured pruning of the module's specified \n",
    "    parameter (typically weights) using a globally defined pruning mask.\n",
    "\n",
    "    Parameters:\n",
    "        module (torch.nn.Module): The module from a neural network whose parameter \n",
    "                                  is to be pruned.\n",
    "        name (str): The name of the parameter within the module to prune, e.g., 'weight'.\n",
    "\n",
    "    Returns:\n",
    "        torch.nn.Module: The same module with the specified parameter now subjected to \n",
    "                         the custom pruning process. This allows for in-place modification\n",
    "                         and reusability of the module in further operations or training.\n",
    "    \"\"\"\n",
    "    CustomPruningMethod.apply(module, name)\n",
    "    return module\n"
   ]
  },
  {
   "cell_type": "code",
   "execution_count": 9,
   "metadata": {},
   "outputs": [
    {
     "name": "stdout",
     "output_type": "stream",
     "text": [
      "Layer encoder.block.0.layer.0.SelfAttention.q mask obtained!\n",
      "Layer encoder.block.0.layer.0.SelfAttention.k mask obtained!\n",
      "Layer encoder.block.0.layer.0.SelfAttention.v mask obtained!\n",
      "Layer encoder.block.0.layer.0.SelfAttention.o mask obtained!\n",
      "Layer encoder.block.0.layer.0.SelfAttention.relative_attention_bias mask obtained!\n",
      "Layer encoder.block.0.layer.0.layer_norm mask obtained!\n",
      "Layer encoder.block.0.layer.1.DenseReluDense.wi mask obtained!\n",
      "Layer encoder.block.0.layer.1.DenseReluDense.wo mask obtained!\n",
      "Layer encoder.block.0.layer.1.layer_norm mask obtained!\n",
      "\n",
      "Layer encoder.block.0.layer.0.SelfAttention.q masked!\n",
      "Layer encoder.block.0.layer.0.SelfAttention.k masked!\n",
      "Layer encoder.block.0.layer.0.SelfAttention.v masked!\n",
      "Layer encoder.block.0.layer.0.SelfAttention.o masked!\n",
      "Layer encoder.block.0.layer.0.SelfAttention.relative_attention_bias masked!\n",
      "Layer encoder.block.0.layer.0.layer_norm masked!\n",
      "Layer encoder.block.0.layer.1.DenseReluDense.wi masked!\n",
      "Layer encoder.block.0.layer.1.DenseReluDense.wo masked!\n",
      "Layer encoder.block.0.layer.1.layer_norm masked!\n",
      "\n",
      "Test accuracy before fine-tuning:  0.14992665956103046\n"
     ]
    }
   ],
   "source": [
    "layer_solutions = {}\n",
    "\n",
    "for layer_name in module_names:\n",
    "    try:\n",
    "        with open(f\"./solutions/T5ForConditionalGeneration/{exp_name}/best_solution_{layer_name}.pkl\", 'rb') as fp:\n",
    "            best_solution = pickle.load(fp)\n",
    "    except:\n",
    "        continue\n",
    "    layer_solutions[layer_name] = best_solution\n",
    "    print(f\"Layer {layer_name} mask obtained!\")\n",
    "\n",
    "print()\n",
    "\n",
    "for layer_name, solution in layer_solutions.items():\n",
    "    solution_mask = torch.tensor(solution)\n",
    "    layer = get_module_by_name(model, layer_name)\n",
    "    custom_unstructured(layer, name='weight')\n",
    "    print(f\"Layer {layer_name} masked!\")\n",
    "print()\n",
    "\n",
    "print(\"Test accuracy before fine-tuning: \", get_bleu_score(model, tokenizer, mbpp_test_loader, MBPP_Test_DF))"
   ]
  },
  {
   "cell_type": "markdown",
   "metadata": {},
   "source": [
    "## Python-API Dataset"
   ]
  },
  {
   "cell_type": "code",
   "execution_count": 16,
   "metadata": {},
   "outputs": [
    {
     "name": "stdout",
     "output_type": "stream",
     "text": [
      "Iteration 1:\n",
      "Epoch 1/1:\n",
      "Train: batch: 10/750, Average loss:0.4205333173274994, Current loss:0.40900719165802\n",
      "Train: batch: 20/750, Average loss:0.4155389741063118, Current loss:0.32355183362960815\n",
      "Train: batch: 30/750, Average loss:0.40862095753351846, Current loss:0.31301403045654297\n",
      "Train: batch: 40/750, Average loss:0.41205747947096827, Current loss:0.6436066627502441\n",
      "Train: batch: 50/750, Average loss:0.405461967587471, Current loss:0.3688463866710663\n",
      "Train: batch: 60/750, Average loss:0.4102784335613251, Current loss:0.3638272285461426\n",
      "Train: batch: 70/750, Average loss:0.40467696615627835, Current loss:0.5133880972862244\n",
      "Train: batch: 80/750, Average loss:0.3950720202177763, Current loss:0.3146379888057709\n",
      "Train: batch: 90/750, Average loss:0.3852678866850005, Current loss:0.28135284781455994\n",
      "Train: batch: 100/750, Average loss:0.38091221541166304, Current loss:0.22692283987998962\n",
      "Train: batch: 110/750, Average loss:0.37284686470573597, Current loss:0.33059027791023254\n",
      "Train: batch: 120/750, Average loss:0.36845517021914326, Current loss:0.23605892062187195\n",
      "Train: batch: 130/750, Average loss:0.3626718656374858, Current loss:0.2120259702205658\n",
      "Train: batch: 140/750, Average loss:0.3565570505602019, Current loss:0.18929477035999298\n",
      "Train: batch: 150/750, Average loss:0.3522414670387904, Current loss:0.23563262820243835\n",
      "Train: batch: 160/750, Average loss:0.3479220344685018, Current loss:0.2751254439353943\n",
      "Train: batch: 170/750, Average loss:0.34426948235315435, Current loss:0.2412436306476593\n",
      "Train: batch: 180/750, Average loss:0.3386684364742703, Current loss:0.2102944552898407\n",
      "Train: batch: 190/750, Average loss:0.3331566134565755, Current loss:0.3006112575531006\n",
      "Train: batch: 200/750, Average loss:0.32904609881341457, Current loss:0.22258085012435913\n",
      "Train: batch: 210/750, Average loss:0.324778848744574, Current loss:0.28024157881736755\n",
      "Train: batch: 220/750, Average loss:0.32136532027613035, Current loss:0.29935118556022644\n",
      "Train: batch: 230/750, Average loss:0.3177775729609572, Current loss:0.22089572250843048\n",
      "Train: batch: 240/750, Average loss:0.3126988962913553, Current loss:0.20016413927078247\n",
      "Train: batch: 250/750, Average loss:0.3086108875274658, Current loss:0.1810888648033142\n",
      "Train: batch: 260/750, Average loss:0.305709229524319, Current loss:0.17569516599178314\n",
      "Train: batch: 270/750, Average loss:0.3031310190205221, Current loss:0.19453586637973785\n",
      "Train: batch: 280/750, Average loss:0.3001494969640459, Current loss:0.19742050766944885\n",
      "Train: batch: 290/750, Average loss:0.2963925763193903, Current loss:0.256754606962204\n",
      "Train: batch: 300/750, Average loss:0.2939343095570803, Current loss:0.18735307455062866\n",
      "Train: batch: 310/750, Average loss:0.2925914199361878, Current loss:0.2205667942762375\n",
      "Train: batch: 320/750, Average loss:0.28936630056705326, Current loss:0.16359399259090424\n",
      "Train: batch: 330/750, Average loss:0.28642410904620635, Current loss:0.2622837722301483\n",
      "Train: batch: 340/750, Average loss:0.2835820951663396, Current loss:0.24417701363563538\n",
      "Train: batch: 350/750, Average loss:0.2805452950298786, Current loss:0.1276070773601532\n",
      "Train: batch: 360/750, Average loss:0.27856083497818973, Current loss:0.18883109092712402\n",
      "Train: batch: 370/750, Average loss:0.2752014220566363, Current loss:0.1816689521074295\n",
      "Train: batch: 380/750, Average loss:0.2724482414753813, Current loss:0.1965278834104538\n",
      "Train: batch: 390/750, Average loss:0.26985312717465254, Current loss:0.20647603273391724\n",
      "Train: batch: 400/750, Average loss:0.2676211586780846, Current loss:0.19580227136611938\n",
      "Train: batch: 410/750, Average loss:0.2652730501279598, Current loss:0.10830507427453995\n",
      "Train: batch: 420/750, Average loss:0.2638140986185698, Current loss:0.30196264386177063\n",
      "Train: batch: 430/750, Average loss:0.26217198881299, Current loss:0.06563440710306168\n",
      "Train: batch: 440/750, Average loss:0.26046220396052705, Current loss:0.28571659326553345\n",
      "Train: batch: 450/750, Average loss:0.25863050134645565, Current loss:0.18026778101921082\n",
      "Train: batch: 460/750, Average loss:0.25606145873341873, Current loss:0.09827619791030884\n",
      "Train: batch: 470/750, Average loss:0.2541493723684169, Current loss:0.20342156291007996\n",
      "Train: batch: 480/750, Average loss:0.25248455042019485, Current loss:0.17489220201969147\n",
      "Train: batch: 490/750, Average loss:0.2510610870256716, Current loss:0.17727826535701752\n",
      "Train: batch: 500/750, Average loss:0.2489930440634489, Current loss:0.10388469696044922\n",
      "Train: batch: 510/750, Average loss:0.24733121424329046, Current loss:0.1263768970966339\n",
      "Train: batch: 520/750, Average loss:0.24592379790086014, Current loss:0.16057921946048737\n",
      "Train: batch: 530/750, Average loss:0.24436451757572733, Current loss:0.10072103142738342\n",
      "Train: batch: 540/750, Average loss:0.2425359134182886, Current loss:0.17775215208530426\n",
      "Train: batch: 550/750, Average loss:0.24048874582079324, Current loss:0.06181399151682854\n",
      "Train: batch: 560/750, Average loss:0.23906235907093754, Current loss:0.14783017337322235\n",
      "Train: batch: 570/750, Average loss:0.2376258038180439, Current loss:0.19261012971401215\n",
      "Train: batch: 580/750, Average loss:0.2363315110640793, Current loss:0.13046090304851532\n",
      "Train: batch: 590/750, Average loss:0.23464028068139392, Current loss:0.14933007955551147\n",
      "Train: batch: 600/750, Average loss:0.2336395087155203, Current loss:0.17397363483905792\n",
      "Train: batch: 610/750, Average loss:0.2323395410949578, Current loss:0.132058247923851\n",
      "Train: batch: 620/750, Average loss:0.23099591491082982, Current loss:0.15956631302833557\n",
      "Train: batch: 630/750, Average loss:0.22954638650611278, Current loss:0.09431511908769608\n",
      "Train: batch: 640/750, Average loss:0.22822625563130713, Current loss:0.12457537651062012\n",
      "Train: batch: 650/750, Average loss:0.22679370985008204, Current loss:0.14545109868049622\n",
      "Train: batch: 660/750, Average loss:0.22538395224308425, Current loss:0.0985957458615303\n",
      "Train: batch: 670/750, Average loss:0.2240931509646462, Current loss:0.16796347498893738\n",
      "Train: batch: 680/750, Average loss:0.22244274521465687, Current loss:0.12260658293962479\n",
      "Train: batch: 690/750, Average loss:0.22135428212367106, Current loss:0.2345077097415924\n",
      "Train: batch: 700/750, Average loss:0.21999217498515333, Current loss:0.05776028707623482\n",
      "Train: batch: 710/750, Average loss:0.2187042931540751, Current loss:0.10981239378452301\n",
      "Train: batch: 720/750, Average loss:0.21753783262231283, Current loss:0.14761532843112946\n",
      "Train: batch: 730/750, Average loss:0.21614009681833934, Current loss:0.1427605152130127\n",
      "Train: batch: 740/750, Average loss:0.2148034610559006, Current loss:0.07581459730863571\n",
      "Train: batch: 750/750, Average loss:0.21357575234770776, Current loss:0.11500091105699539\n",
      "Train Loss: 0.21357575234770776\n",
      "Valid: batch: 10/94, Average loss:0.03331286478787661, Current Loss:0.052042387425899506\n",
      "Valid: batch: 20/94, Average loss:0.03369965832680464, Current Loss:0.033434152603149414\n",
      "Valid: batch: 30/94, Average loss:0.034077776006112497, Current Loss:0.024945920333266258\n",
      "Valid: batch: 40/94, Average loss:0.030851850064937025, Current Loss:0.025465533137321472\n",
      "Valid: batch: 50/94, Average loss:0.030465540941804647, Current Loss:0.019914528355002403\n",
      "Valid: batch: 60/94, Average loss:0.029365901610193153, Current Loss:0.016283458098769188\n",
      "Valid: batch: 70/94, Average loss:0.028511335840448737, Current Loss:0.055074021220207214\n",
      "Valid: batch: 80/94, Average loss:0.028055331198265775, Current Loss:0.037599802017211914\n",
      "Valid: batch: 90/94, Average loss:0.028649370263641078, Current Loss:0.04639194905757904\n",
      "Valid Loss: 0.028106449196669967\n",
      "BLEU Score after 1 iterations: 0.29240248626989446\n"
     ]
    }
   ],
   "source": [
    "for iter in range(1):\n",
    "    print(f\"Iteration {iter+1}:\")\n",
    "    fine_tune(model, api_train_loader, api_val_loader, epochs=1, learning_rate=1e-6)\n",
    "    print(f\"BLEU Score after {(iter+1)} iterations:\", get_bleu_score(model, tokenizer, api_test_loader, API_Test_DF))"
   ]
  },
  {
   "cell_type": "markdown",
   "metadata": {},
   "source": [
    "## MBPP Dataset"
   ]
  },
  {
   "cell_type": "code",
   "execution_count": 10,
   "metadata": {},
   "outputs": [
    {
     "name": "stdout",
     "output_type": "stream",
     "text": [
      "Iteration 1:\n",
      "Epoch 1/1:\n",
      "Train: batch: 10/98, Average loss:0.06321686990559101, Current loss:0.0262504443526268\n",
      "Train: batch: 20/98, Average loss:0.06250367611646652, Current loss:0.09344208985567093\n",
      "Train: batch: 30/98, Average loss:0.06994899275402228, Current loss:0.07343579828739166\n",
      "Train: batch: 40/98, Average loss:0.06868068198673427, Current loss:0.07464797049760818\n",
      "Train: batch: 50/98, Average loss:0.0657530989125371, Current loss:0.030841751024127007\n",
      "Train: batch: 60/98, Average loss:0.06698097198580702, Current loss:0.07480858266353607\n",
      "Train: batch: 70/98, Average loss:0.06856974711907761, Current loss:0.10628055781126022\n",
      "Train: batch: 80/98, Average loss:0.06951920615974813, Current loss:0.05590860918164253\n",
      "Train: batch: 90/98, Average loss:0.06994887662844526, Current loss:0.03594674542546272\n",
      "Train: batch: 98/98, Average loss:0.07062521006683914, Current loss:0.11665552854537964\n",
      "Train Loss: 0.07062521006683914\n",
      "Valid: batch: 10/13, Average loss:0.042269826680421826, Current Loss:0.03402294963598251\n",
      "Valid Loss: 0.03839585162887278\n",
      "BLEU score after 1 iterations: 0.14968519410219736\n",
      "Iteration 2:\n",
      "Epoch 1/1:\n",
      "Train: batch: 10/98, Average loss:0.08281379584223032, Current loss:0.06068284809589386\n",
      "Train: batch: 20/98, Average loss:0.07557260375469924, Current loss:0.030970582738518715\n",
      "Train: batch: 30/98, Average loss:0.0720721730341514, Current loss:0.02549152448773384\n",
      "Train: batch: 40/98, Average loss:0.07537296945229173, Current loss:0.05316673964262009\n",
      "Train: batch: 50/98, Average loss:0.07616129696369171, Current loss:0.092816062271595\n",
      "Train: batch: 60/98, Average loss:0.07523063383996487, Current loss:0.1171899065375328\n",
      "Train: batch: 70/98, Average loss:0.0722731448976057, Current loss:0.029807882383465767\n",
      "Train: batch: 80/98, Average loss:0.07148148596752435, Current loss:0.050173018127679825\n",
      "Train: batch: 90/98, Average loss:0.07142891765882571, Current loss:0.08380905538797379\n",
      "Train: batch: 98/98, Average loss:0.07105053476609137, Current loss:0.06320680677890778\n",
      "Train Loss: 0.07105053476609137\n",
      "Valid: batch: 10/13, Average loss:0.04134747330099344, Current Loss:0.033329859375953674\n",
      "Valid Loss: 0.03747342059908148\n",
      "BLEU score after 2 iterations: 0.14655831050497137\n",
      "Iteration 3:\n",
      "Epoch 1/1:\n",
      "Train: batch: 10/98, Average loss:0.0663548493757844, Current loss:0.12190457433462143\n",
      "Train: batch: 20/98, Average loss:0.07284168684855104, Current loss:0.10086820274591446\n",
      "Train: batch: 30/98, Average loss:0.07020253129303455, Current loss:0.024219835177063942\n",
      "Train: batch: 40/98, Average loss:0.07107651326805353, Current loss:0.09406004846096039\n",
      "Train: batch: 50/98, Average loss:0.07165133502334356, Current loss:0.0879693254828453\n",
      "Train: batch: 60/98, Average loss:0.07201492230718334, Current loss:0.06364020705223083\n",
      "Train: batch: 70/98, Average loss:0.07188922776175397, Current loss:0.09564822167158127\n",
      "Train: batch: 80/98, Average loss:0.0713199727004394, Current loss:0.10288836061954498\n",
      "Train: batch: 90/98, Average loss:0.07037931844178173, Current loss:0.1129523515701294\n",
      "Train: batch: 98/98, Average loss:0.06870167108480724, Current loss:0.015136045403778553\n",
      "Train Loss: 0.06870167108480724\n",
      "Valid: batch: 10/13, Average loss:0.04063991820439696, Current Loss:0.03284388780593872\n",
      "Valid Loss: 0.036765348159511074\n",
      "BLEU score after 3 iterations: 0.14686598312434127\n"
     ]
    }
   ],
   "source": [
    "for iter in range(3):\n",
    "    print(f\"Iteration {iter+1}:\")\n",
    "    fine_tune(model, mbpp_train_loader, mbpp_val_loader, epochs=1, learning_rate=1e-6)\n",
    "    print(f\"BLEU score after {(iter+1)} iterations:\", get_bleu_score(model, tokenizer, mbpp_test_loader, MBPP_Test_DF))"
   ]
  },
  {
   "cell_type": "markdown",
   "metadata": {},
   "source": [
    "## Remove the masks (make them permanent)"
   ]
  },
  {
   "cell_type": "code",
   "execution_count": 12,
   "metadata": {},
   "outputs": [
    {
     "name": "stdout",
     "output_type": "stream",
     "text": [
      "Layer encoder.block.0.layer.0.SelfAttention.q unmasked!\n",
      "Layer encoder.block.0.layer.0.SelfAttention.k unmasked!\n",
      "Layer encoder.block.0.layer.0.SelfAttention.v unmasked!\n",
      "Layer encoder.block.0.layer.0.SelfAttention.o unmasked!\n",
      "Layer encoder.block.0.layer.0.SelfAttention.relative_attention_bias unmasked!\n",
      "Layer encoder.block.0.layer.0.layer_norm unmasked!\n",
      "Layer encoder.block.0.layer.1.DenseReluDense.wi unmasked!\n",
      "Layer encoder.block.0.layer.1.DenseReluDense.wo unmasked!\n",
      "Layer encoder.block.0.layer.1.layer_norm unmasked!\n"
     ]
    }
   ],
   "source": [
    "for layer_name, solution in layer_solutions.items():\n",
    "    layer = get_module_by_name(model, layer_name)\n",
    "    prune.remove(layer, 'weight')\n",
    "    print(f\"Layer {layer_name} unmasked!\")"
   ]
  },
  {
   "cell_type": "markdown",
   "metadata": {},
   "source": [
    "# Performance after Fine-tuning"
   ]
  },
  {
   "cell_type": "markdown",
   "metadata": {},
   "source": [
    "## MBPP Dataset"
   ]
  },
  {
   "cell_type": "code",
   "execution_count": 13,
   "metadata": {},
   "outputs": [
    {
     "name": "stdout",
     "output_type": "stream",
     "text": [
      "BLEU score: 0.1344859785908876\n"
     ]
    }
   ],
   "source": [
    "print(\"BLEU score:\", get_bleu_score(model, tokenizer, mbpp_test_loader, MBPP_Test_DF))"
   ]
  },
  {
   "cell_type": "markdown",
   "metadata": {},
   "source": [
    "## Python-API Dataset"
   ]
  },
  {
   "cell_type": "code",
   "execution_count": 20,
   "metadata": {},
   "outputs": [
    {
     "name": "stdout",
     "output_type": "stream",
     "text": [
      "BLEU Score: 0.2917530479398626\n"
     ]
    }
   ],
   "source": [
    "print(\"BLEU Score:\", get_bleu_score(model, tokenizer, api_test_loader, API_Test_DF))"
   ]
  },
  {
   "cell_type": "markdown",
   "metadata": {},
   "source": [
    "# Save Model"
   ]
  },
  {
   "cell_type": "code",
   "execution_count": 14,
   "metadata": {},
   "outputs": [],
   "source": [
    "directory = f\"./sparse_models/T5ForConditionalGeneration/{exp_name}\"\n",
    "if not os.path.exists(directory):\n",
    "    os.makedirs(directory)\n",
    "torch.save(model.state_dict(), f'./sparse_models/T5ForConditionalGeneration/{exp_name}/sparse_weights_finetuned.pth')"
   ]
  }
 ],
 "metadata": {
  "kernelspec": {
   "display_name": "base",
   "language": "python",
   "name": "python3"
  },
  "language_info": {
   "codemirror_mode": {
    "name": "ipython",
    "version": 3
   },
   "file_extension": ".py",
   "mimetype": "text/x-python",
   "name": "python",
   "nbconvert_exporter": "python",
   "pygments_lexer": "ipython3",
   "version": "3.10.15"
  }
 },
 "nbformat": 4,
 "nbformat_minor": 2
}
