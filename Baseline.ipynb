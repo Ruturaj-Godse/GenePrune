{
 "cells": [
  {
   "cell_type": "markdown",
   "metadata": {},
   "source": [
    "# Imports"
   ]
  },
  {
   "cell_type": "code",
   "execution_count": null,
   "metadata": {},
   "outputs": [],
   "source": [
    "from transformers import RobertaTokenizer, T5ForConditionalGeneration\n",
    "from Datasets import Api_Dataset, Mbpp_Dataset\n",
    "import torch\n",
    "import numpy as np\n",
    "from Datasets import Test_Dataset\n",
    "from torch.utils.data import DataLoader\n",
    "import pandas as pd\n",
    "from utils import get_module_names, get_module_by_name\n",
    "import torch.nn.utils.prune as prune\n",
    "from utils import get_module_by_name, get_module_names, get_bleu_score, fine_tune\n",
    "import torch.backends.cudnn as cudnn"
   ]
  },
  {
   "cell_type": "markdown",
   "metadata": {},
   "source": [
    "# Load Model"
   ]
  },
  {
   "cell_type": "code",
   "execution_count": null,
   "metadata": {},
   "outputs": [
    {
     "name": "stdout",
     "output_type": "stream",
     "text": [
      "Your device is cuda.\n"
     ]
    },
    {
     "name": "stderr",
     "output_type": "stream",
     "text": [
      "/opt/conda/lib/python3.10/site-packages/transformers/modeling_utils.py:415: FutureWarning: You are using `torch.load` with `weights_only=False` (the current default value), which uses the default pickle module implicitly. It is possible to construct malicious pickle data which will execute arbitrary code during unpickling (See https://github.com/pytorch/pytorch/blob/main/SECURITY.md#untrusted-models for more details). In a future release, the default value for `weights_only` will be flipped to `True`. This limits the functions that could be executed during unpickling. Arbitrary objects will no longer be allowed to be loaded via this mode unless they are explicitly allowlisted by the user via `torch.serialization.add_safe_globals`. We recommend you start setting `weights_only=True` for any use case where you don't have full control of the loaded file. Please open an issue on GitHub for any issues related to this experimental feature.\n",
      "  return torch.load(checkpoint_file, map_location=\"cpu\")\n"
     ]
    }
   ],
   "source": [
    "model_path = 'final_model'\n",
    "# Set up device\n",
    "device = torch.device('cuda' if torch.cuda.is_available() else 'cpu')\n",
    "print(f'Your device is {device}.')\n",
    "# Set up model and tokenizer\n",
    "model = T5ForConditionalGeneration.from_pretrained(model_path)\n",
    "tokenizer = RobertaTokenizer.from_pretrained(model_path)\n",
    "model = model.to(device)\n",
    "if device == 'cuda':\n",
    "    model = torch.nn.DataParallel(model)\n",
    "    cudnn.benchmark = True"
   ]
  },
  {
   "cell_type": "markdown",
   "metadata": {},
   "source": [
    "# Load Datasets and Data Loaders"
   ]
  },
  {
   "cell_type": "markdown",
   "metadata": {},
   "source": [
    "## MBPP Dataset"
   ]
  },
  {
   "cell_type": "code",
   "execution_count": 3,
   "metadata": {},
   "outputs": [
    {
     "name": "stderr",
     "output_type": "stream",
     "text": [
      "/opt/conda/lib/python3.10/site-packages/huggingface_hub/file_download.py:797: FutureWarning: `resume_download` is deprecated and will be removed in version 1.0.0. Downloads always resume when possible. If you want to force a new download, use `force_download=True`.\n",
      "  warnings.warn(\n",
      "/opt/conda/lib/python3.10/site-packages/huggingface_hub/file_download.py:797: FutureWarning: `resume_download` is deprecated and will be removed in version 1.0.0. Downloads always resume when possible. If you want to force a new download, use `force_download=True`.\n",
      "  warnings.warn(\n",
      "/opt/conda/lib/python3.10/site-packages/huggingface_hub/file_download.py:797: FutureWarning: `resume_download` is deprecated and will be removed in version 1.0.0. Downloads always resume when possible. If you want to force a new download, use `force_download=True`.\n",
      "  warnings.warn(\n"
     ]
    }
   ],
   "source": [
    "Mbpp_train_dataset = Mbpp_Dataset('mbpp_train.csv', text_length=128, code_length=128)\n",
    "Mbpp_valid_dataset = Mbpp_Dataset('mbpp_valid.csv', text_length=128, code_length=128)\n",
    "\n",
    "mbpp_train_loader = DataLoader(Mbpp_train_dataset, batch_size=8, shuffle=True)\n",
    "mbpp_val_loader = DataLoader(Mbpp_valid_dataset, batch_size=8, shuffle=False)\n",
    "\n",
    "mbpp_test_dataset = Test_Dataset(data='data/mbpp/mbpp_test.csv', task_prefix='Generate code from natural language: (from Mbpp)')\n",
    "mbpp_test_loader = DataLoader(dataset=mbpp_test_dataset, batch_size=128, shuffle=False)\n",
    "MBPP_Test_DF = pd.read_csv('data/mbpp/mbpp_test.csv')"
   ]
  },
  {
   "cell_type": "markdown",
   "metadata": {},
   "source": [
    "## Python-API Dataset"
   ]
  },
  {
   "cell_type": "code",
   "execution_count": 4,
   "metadata": {},
   "outputs": [
    {
     "name": "stderr",
     "output_type": "stream",
     "text": [
      "/opt/conda/lib/python3.10/site-packages/huggingface_hub/file_download.py:797: FutureWarning: `resume_download` is deprecated and will be removed in version 1.0.0. Downloads always resume when possible. If you want to force a new download, use `force_download=True`.\n",
      "  warnings.warn(\n",
      "/opt/conda/lib/python3.10/site-packages/huggingface_hub/file_download.py:797: FutureWarning: `resume_download` is deprecated and will be removed in version 1.0.0. Downloads always resume when possible. If you want to force a new download, use `force_download=True`.\n",
      "  warnings.warn(\n",
      "/opt/conda/lib/python3.10/site-packages/huggingface_hub/file_download.py:797: FutureWarning: `resume_download` is deprecated and will be removed in version 1.0.0. Downloads always resume when possible. If you want to force a new download, use `force_download=True`.\n",
      "  warnings.warn(\n"
     ]
    }
   ],
   "source": [
    "Api_train_dataset = Api_Dataset('api-mined_train.csv', text_length=256, code_length=64)\n",
    "Api_valid_dataset = Api_Dataset('api-mined_valid.csv', text_length=256, code_length=64)\n",
    "\n",
    "api_train_loader = DataLoader(Api_train_dataset, batch_size=16, shuffle=True)\n",
    "api_val_loader = DataLoader(Api_valid_dataset, batch_size=16, shuffle=False)\n",
    "\n",
    "api_test_dataset = Test_Dataset(data='data/pythonapi/test_processing.csv', task_prefix='Generate code from natural language: (from PythonAPI)')\n",
    "api_test_loader = DataLoader(dataset=api_test_dataset, batch_size=256, shuffle=False)\n",
    "API_Test_DF = pd.read_csv('data/pythonapi/test_processing.csv')"
   ]
  },
  {
   "cell_type": "markdown",
   "metadata": {},
   "source": [
    "# Original Model Performance"
   ]
  },
  {
   "cell_type": "markdown",
   "metadata": {},
   "source": [
    "## MBPP Dataset"
   ]
  },
  {
   "cell_type": "code",
   "execution_count": 5,
   "metadata": {},
   "outputs": [
    {
     "name": "stdout",
     "output_type": "stream",
     "text": [
      "BLEU score: 0.13894053612378582\n"
     ]
    }
   ],
   "source": [
    "print(\"BLEU score:\", get_bleu_score(model, tokenizer, mbpp_test_loader, MBPP_Test_DF))"
   ]
  },
  {
   "cell_type": "markdown",
   "metadata": {},
   "source": [
    "## Python-API Dataset"
   ]
  },
  {
   "cell_type": "code",
   "execution_count": 6,
   "metadata": {},
   "outputs": [
    {
     "name": "stdout",
     "output_type": "stream",
     "text": [
      "BLEU Score: 0.2281461434656612\n"
     ]
    }
   ],
   "source": [
    "print(\"BLEU Score:\", get_bleu_score(model, tokenizer, api_test_loader, API_Test_DF))"
   ]
  },
  {
   "cell_type": "markdown",
   "metadata": {},
   "source": [
    "# Pruning"
   ]
  },
  {
   "cell_type": "code",
   "execution_count": 7,
   "metadata": {},
   "outputs": [],
   "source": [
    "SPARSITY = 0.2"
   ]
  },
  {
   "cell_type": "code",
   "execution_count": 8,
   "metadata": {},
   "outputs": [
    {
     "data": {
      "text/plain": [
       "['shared',\n",
       " 'encoder.embed_tokens',\n",
       " 'encoder.block.0.layer.0.SelfAttention.q',\n",
       " 'encoder.block.0.layer.0.SelfAttention.k',\n",
       " 'encoder.block.0.layer.0.SelfAttention.v',\n",
       " 'encoder.block.0.layer.0.SelfAttention.o',\n",
       " 'encoder.block.0.layer.0.SelfAttention.relative_attention_bias',\n",
       " 'encoder.block.0.layer.0.layer_norm',\n",
       " 'encoder.block.0.layer.0.dropout',\n",
       " 'encoder.block.0.layer.1.DenseReluDense.wi']"
      ]
     },
     "execution_count": 8,
     "metadata": {},
     "output_type": "execute_result"
    }
   ],
   "source": [
    "module_names = []\n",
    "get_module_names(model, '', module_names)\n",
    "module_names[:10]"
   ]
  },
  {
   "cell_type": "code",
   "execution_count": 9,
   "metadata": {},
   "outputs": [
    {
     "data": {
      "text/plain": [
       "[('shared', 24652800),\n",
       " ('encoder.block.0.layer.0.SelfAttention.q', 589824),\n",
       " ('encoder.block.0.layer.0.SelfAttention.k', 589824),\n",
       " ('encoder.block.0.layer.0.SelfAttention.v', 589824),\n",
       " ('encoder.block.0.layer.0.SelfAttention.o', 589824),\n",
       " ('encoder.block.0.layer.0.SelfAttention.relative_attention_bias', 384),\n",
       " ('encoder.block.0.layer.0.layer_norm', 768),\n",
       " ('encoder.block.0.layer.1.DenseReluDense.wi', 2359296),\n",
       " ('encoder.block.0.layer.1.DenseReluDense.wo', 2359296),\n",
       " ('encoder.block.0.layer.1.layer_norm', 768)]"
      ]
     },
     "execution_count": 9,
     "metadata": {},
     "output_type": "execute_result"
    }
   ],
   "source": [
    "parameters_to_prune = []\n",
    "pruneable_module_names = []\n",
    "for module_name in module_names:\n",
    "    if 'embed_tokens' in module_name:\n",
    "        continue\n",
    "    module = get_module_by_name(model, module_name)\n",
    "    try:\n",
    "        module.weight.shape\n",
    "        parameters_to_prune.append((module, 'weight'))\n",
    "        pruneable_module_names.append((module_name, np.prod(module.weight.shape)))\n",
    "    except:\n",
    "        pass\n",
    "parameters_to_prune[:10]\n",
    "pruneable_module_names[:10]"
   ]
  },
  {
   "cell_type": "code",
   "execution_count": 10,
   "metadata": {},
   "outputs": [],
   "source": [
    "prune.global_unstructured(\n",
    "    parameters_to_prune,\n",
    "    pruning_method=prune.L1Unstructured,\n",
    "    amount=SPARSITY,\n",
    ")"
   ]
  },
  {
   "cell_type": "code",
   "execution_count": 11,
   "metadata": {},
   "outputs": [],
   "source": [
    "for module, _ in parameters_to_prune:\n",
    "    prune.remove(module, 'weight')"
   ]
  },
  {
   "cell_type": "code",
   "execution_count": 12,
   "metadata": {},
   "outputs": [
    {
     "name": "stdout",
     "output_type": "stream",
     "text": [
      "Total number of layers: 257\n",
      "Total number of parameters: 222882048\n",
      "Sparsity Levels: [0.09523421274662514, 0.1797146267361111, 0.17404344346788195, 0.2872229682074653, 0.2921057807074653, 0.041666666666666664, 0.059895833333333336, 0.23017798529730904, 0.24158520168728298, 0.0013020833333333333, 0.20892164442274305, 0.20511372884114584, 0.2707909478081597, 0.2691107855902778, 0.005208333333333333, 0.2257470024956597, 0.23588773939344618, 0.0, 0.2109341091579861, 0.20858595106336805, 0.2620188395182292, 0.2591264512803819, 0.0078125, 0.22086588541666666, 0.23395750257703993, 0.0, 0.21506754557291666, 0.2120903862847222, 0.2537655300564236, 0.2508816189236111, 0.0078125, 0.21743392944335938, 0.23118125067816842, 0.0, 0.2192043728298611, 0.2173614501953125, 0.24500528971354166, 0.2425452338324653, 0.0078125, 0.21404563056098092, 0.23043526543511283, 0.0, 0.21863301595052084, 0.21638319227430555, 0.24059549967447916, 0.2373267279730903, 0.0078125, 0.21276685926649305, 0.2283994886610243, 0.0, 0.2186313205295139, 0.2176174587673611, 0.23855421278211805, 0.23611280653211805, 0.0078125, 0.21245023939344618, 0.22648917304144967, 0.0, 0.22292073567708334, 0.2212677001953125, 0.2276153564453125, 0.2280951605902778, 0.0078125, 0.21205308702256945, 0.2256011962890625, 0.0, 0.22361924913194445, 0.22020467122395834, 0.22584025065104166, 0.22427537706163195, 0.005208333333333333, 0.2128355238172743, 0.22561475965711805, 0.0, 0.222747802734375, 0.22114393446180555, 0.2235599093967014, 0.22144571940104166, 0.005208333333333333, 0.21249220106336805, 0.22581439548068577, 0.0013020833333333333, 0.2213134765625, 0.21891276041666666, 0.22429402669270834, 0.22266642252604166, 0.005208333333333333, 0.21288511488172743, 0.22821935017903647, 0.0, 0.2318047417534722, 0.2300262451171875, 0.20707533094618055, 0.207794189453125, 0.00390625, 0.21476787990993923, 0.22679773966471353, 0.0013020833333333333, 0.0078125, 0.1723056369357639, 0.1702948676215278, 0.3133511013454861, 0.3185560438368056, 0.0026041666666666665, 0.0234375, 0.23256937662760416, 0.2371029324001736, 0.3229607476128472, 0.31903076171875, 0.0, 0.22835540771484375, 0.23713811238606772, 0.0, 0.21171061197916666, 0.2093929714626736, 0.2705552842881944, 0.2710740831163194, 0.0013020833333333333, 0.2355736626519097, 0.23865254720052084, 0.2633633083767361, 0.2618509928385417, 0.0, 0.2269015842013889, 0.2369232177734375, 0.0, 0.22587076822916666, 0.22740003797743055, 0.2529398600260417, 0.2520124647352431, 0.0, 0.2347140842013889, 0.2379523383246528, 0.24711778428819445, 0.24394056532118055, 0.0013020833333333333, 0.22432454427083334, 0.23437711927625868, 0.0, 0.22864786783854166, 0.2299109564887153, 0.2403683132595486, 0.2396325005425347, 0.0026041666666666665, 0.230743408203125, 0.23382737901475695, 0.2379218207465278, 0.2363925509982639, 0.0, 0.22176615397135416, 0.23046069675021702, 0.0, 0.2243720160590278, 0.22625901963975695, 0.2380896674262153, 0.2380252414279514, 0.0026041666666666665, 0.2260165744357639, 0.2302890353732639, 0.2267676459418403, 0.22504679361979166, 0.0013020833333333333, 0.22086715698242188, 0.22783321804470485, 0.0, 0.228302001953125, 0.23011610243055555, 0.2319522433810764, 0.2312689887152778, 0.0026041666666666665, 0.2231411404079861, 0.22623189290364584, 0.22169664171006945, 0.22159830729166666, 0.0026041666666666665, 0.22033309936523438, 0.2261717054578993, 0.0, 0.2304263644748264, 0.23198954264322916, 0.21881612141927084, 0.2188076443142361, 0.0026041666666666665, 0.22155931260850695, 0.22455851236979166, 0.2166476779513889, 0.2160678439670139, 0.0026041666666666665, 0.2201351589626736, 0.22484291924370658, 0.0, 0.2314181857638889, 0.23140970865885416, 0.21867540147569445, 0.22079298231336805, 0.0026041666666666665, 0.22102186414930555, 0.22421773274739584, 0.20887586805555555, 0.2086554633246528, 0.00390625, 0.22028308444552952, 0.22398079766167533, 0.0, 0.2315402560763889, 0.2340816921657986, 0.2150336371527778, 0.21790568033854166, 0.0026041666666666665, 0.2219458685980903, 0.22516038682725695, 0.20507642957899305, 0.2043914794921875, 0.00390625, 0.22001096937391493, 0.22345394558376735, 0.0, 0.2327846950954861, 0.2333441840277778, 0.2224494086371528, 0.2235260009765625, 0.0026041666666666665, 0.2234107123480903, 0.22676595052083334, 0.1932830810546875, 0.19265577528211805, 0.0026041666666666665, 0.21930228339301217, 0.22218110826280382, 0.0, 0.23947652180989584, 0.2401394314236111, 0.21656629774305555, 0.21940443250868055, 0.0026041666666666665, 0.22157796223958334, 0.2245449490017361, 0.1910824245876736, 0.19129774305555555, 0.0013020833333333333, 0.21979988945855033, 0.22168731689453125, 0.0, 0.24178568522135416, 0.2433200412326389, 0.2176903618706597, 0.2208167182074653, 0.0, 0.22333272298177084, 0.22577073838975695, 0.18271043565538195, 0.1847381591796875, 0.0, 0.21856053670247397, 0.21963628133138022, 0.0, 0.0]\n",
      "Sparse Parameters: 47159180\n",
      "Total Parameters: 222882048\n",
      "Net Sparsity: 0.21158805934877267\n"
     ]
    }
   ],
   "source": [
    "count = 0\n",
    "net_size = 0\n",
    "pairs = []\n",
    "sparsity_levels = []\n",
    "sparse_parameters = 0\n",
    "total_parameters = 0\n",
    "\n",
    "for name, param in model.named_parameters():\n",
    "    if param.requires_grad:\n",
    "        # print(name, param.size())\n",
    "        count += 1\n",
    "        net_size += np.prod(param.size())\n",
    "        pairs.append((name, np.prod(param.size())))\n",
    "        layer_weights = param.to('cpu')\n",
    "        layer_weights = np.array(layer_weights.detach())\n",
    "        sparsity = (layer_weights.size - np.count_nonzero(layer_weights))/layer_weights.size\n",
    "        sparsity_levels.append(sparsity)\n",
    "        sparse_parameters += (layer_weights.size - np.count_nonzero(layer_weights))\n",
    "        total_parameters += layer_weights.size\n",
    "\n",
    "print(f\"Total number of layers: {count}\")\n",
    "print(f\"Total number of parameters: {net_size}\")\n",
    "print(f\"Sparsity Levels: {sparsity_levels}\")\n",
    "print(f\"Sparse Parameters: {sparse_parameters}\")\n",
    "print(f\"Total Parameters: {total_parameters}\")\n",
    "print(f\"Net Sparsity: {sparse_parameters/total_parameters}\")"
   ]
  },
  {
   "cell_type": "markdown",
   "metadata": {},
   "source": [
    "# Performance after Magnitude-based Pruning"
   ]
  },
  {
   "cell_type": "markdown",
   "metadata": {},
   "source": [
    "## MBPP Dataset"
   ]
  },
  {
   "cell_type": "code",
   "execution_count": 13,
   "metadata": {},
   "outputs": [
    {
     "name": "stdout",
     "output_type": "stream",
     "text": [
      "BLEU score: 0.10602251935838682\n"
     ]
    }
   ],
   "source": [
    "print(\"BLEU score:\", get_bleu_score(model, tokenizer, mbpp_test_loader, MBPP_Test_DF))"
   ]
  },
  {
   "cell_type": "markdown",
   "metadata": {},
   "source": [
    "## Python-API Dataset"
   ]
  },
  {
   "cell_type": "code",
   "execution_count": 14,
   "metadata": {},
   "outputs": [
    {
     "name": "stdout",
     "output_type": "stream",
     "text": [
      "BLEU Score: 0.1727099428634061\n"
     ]
    }
   ],
   "source": [
    "print(\"BLEU Score:\", get_bleu_score(model, tokenizer, api_test_loader, API_Test_DF))"
   ]
  },
  {
   "cell_type": "markdown",
   "metadata": {},
   "source": [
    "# Fine-tuning"
   ]
  },
  {
   "cell_type": "markdown",
   "metadata": {},
   "source": [
    "## Apply the pruning masks"
   ]
  },
  {
   "cell_type": "code",
   "execution_count": 15,
   "metadata": {},
   "outputs": [],
   "source": [
    "prune.global_unstructured(\n",
    "    parameters_to_prune,\n",
    "    pruning_method=prune.L1Unstructured,\n",
    "    amount=SPARSITY,\n",
    ")"
   ]
  },
  {
   "cell_type": "markdown",
   "metadata": {},
   "source": [
    "## Python-API Dataset"
   ]
  },
  {
   "cell_type": "code",
   "execution_count": 16,
   "metadata": {},
   "outputs": [
    {
     "name": "stdout",
     "output_type": "stream",
     "text": [
      "Iteration 1:\n",
      "Epoch 1/1:\n",
      "Train: batch: 10/750, Average loss:0.4205333173274994, Current loss:0.40900719165802\n",
      "Train: batch: 20/750, Average loss:0.4155389741063118, Current loss:0.32355183362960815\n",
      "Train: batch: 30/750, Average loss:0.40862095753351846, Current loss:0.31301403045654297\n",
      "Train: batch: 40/750, Average loss:0.41205747947096827, Current loss:0.6436066627502441\n",
      "Train: batch: 50/750, Average loss:0.405461967587471, Current loss:0.3688463866710663\n",
      "Train: batch: 60/750, Average loss:0.4102784335613251, Current loss:0.3638272285461426\n",
      "Train: batch: 70/750, Average loss:0.40467696615627835, Current loss:0.5133880972862244\n",
      "Train: batch: 80/750, Average loss:0.3950720202177763, Current loss:0.3146379888057709\n",
      "Train: batch: 90/750, Average loss:0.3852678866850005, Current loss:0.28135284781455994\n",
      "Train: batch: 100/750, Average loss:0.38091221541166304, Current loss:0.22692283987998962\n",
      "Train: batch: 110/750, Average loss:0.37284686470573597, Current loss:0.33059027791023254\n",
      "Train: batch: 120/750, Average loss:0.36845517021914326, Current loss:0.23605892062187195\n",
      "Train: batch: 130/750, Average loss:0.3626718656374858, Current loss:0.2120259702205658\n",
      "Train: batch: 140/750, Average loss:0.3565570505602019, Current loss:0.18929477035999298\n",
      "Train: batch: 150/750, Average loss:0.3522414670387904, Current loss:0.23563262820243835\n",
      "Train: batch: 160/750, Average loss:0.3479220344685018, Current loss:0.2751254439353943\n",
      "Train: batch: 170/750, Average loss:0.34426948235315435, Current loss:0.2412436306476593\n",
      "Train: batch: 180/750, Average loss:0.3386684364742703, Current loss:0.2102944552898407\n",
      "Train: batch: 190/750, Average loss:0.3331566134565755, Current loss:0.3006112575531006\n",
      "Train: batch: 200/750, Average loss:0.32904609881341457, Current loss:0.22258085012435913\n",
      "Train: batch: 210/750, Average loss:0.324778848744574, Current loss:0.28024157881736755\n",
      "Train: batch: 220/750, Average loss:0.32136532027613035, Current loss:0.29935118556022644\n",
      "Train: batch: 230/750, Average loss:0.3177775729609572, Current loss:0.22089572250843048\n",
      "Train: batch: 240/750, Average loss:0.3126988962913553, Current loss:0.20016413927078247\n",
      "Train: batch: 250/750, Average loss:0.3086108875274658, Current loss:0.1810888648033142\n",
      "Train: batch: 260/750, Average loss:0.305709229524319, Current loss:0.17569516599178314\n",
      "Train: batch: 270/750, Average loss:0.3031310190205221, Current loss:0.19453586637973785\n",
      "Train: batch: 280/750, Average loss:0.3001494969640459, Current loss:0.19742050766944885\n",
      "Train: batch: 290/750, Average loss:0.2963925763193903, Current loss:0.256754606962204\n",
      "Train: batch: 300/750, Average loss:0.2939343095570803, Current loss:0.18735307455062866\n",
      "Train: batch: 310/750, Average loss:0.2925914199361878, Current loss:0.2205667942762375\n",
      "Train: batch: 320/750, Average loss:0.28936630056705326, Current loss:0.16359399259090424\n",
      "Train: batch: 330/750, Average loss:0.28642410904620635, Current loss:0.2622837722301483\n",
      "Train: batch: 340/750, Average loss:0.2835820951663396, Current loss:0.24417701363563538\n",
      "Train: batch: 350/750, Average loss:0.2805452950298786, Current loss:0.1276070773601532\n",
      "Train: batch: 360/750, Average loss:0.27856083497818973, Current loss:0.18883109092712402\n",
      "Train: batch: 370/750, Average loss:0.2752014220566363, Current loss:0.1816689521074295\n",
      "Train: batch: 380/750, Average loss:0.2724482414753813, Current loss:0.1965278834104538\n",
      "Train: batch: 390/750, Average loss:0.26985312717465254, Current loss:0.20647603273391724\n",
      "Train: batch: 400/750, Average loss:0.2676211586780846, Current loss:0.19580227136611938\n",
      "Train: batch: 410/750, Average loss:0.2652730501279598, Current loss:0.10830507427453995\n",
      "Train: batch: 420/750, Average loss:0.2638140986185698, Current loss:0.30196264386177063\n",
      "Train: batch: 430/750, Average loss:0.26217198881299, Current loss:0.06563440710306168\n",
      "Train: batch: 440/750, Average loss:0.26046220396052705, Current loss:0.28571659326553345\n",
      "Train: batch: 450/750, Average loss:0.25863050134645565, Current loss:0.18026778101921082\n",
      "Train: batch: 460/750, Average loss:0.25606145873341873, Current loss:0.09827619791030884\n",
      "Train: batch: 470/750, Average loss:0.2541493723684169, Current loss:0.20342156291007996\n",
      "Train: batch: 480/750, Average loss:0.25248455042019485, Current loss:0.17489220201969147\n",
      "Train: batch: 490/750, Average loss:0.2510610870256716, Current loss:0.17727826535701752\n",
      "Train: batch: 500/750, Average loss:0.2489930440634489, Current loss:0.10388469696044922\n",
      "Train: batch: 510/750, Average loss:0.24733121424329046, Current loss:0.1263768970966339\n",
      "Train: batch: 520/750, Average loss:0.24592379790086014, Current loss:0.16057921946048737\n",
      "Train: batch: 530/750, Average loss:0.24436451757572733, Current loss:0.10072103142738342\n",
      "Train: batch: 540/750, Average loss:0.2425359134182886, Current loss:0.17775215208530426\n",
      "Train: batch: 550/750, Average loss:0.24048874582079324, Current loss:0.06181399151682854\n",
      "Train: batch: 560/750, Average loss:0.23906235907093754, Current loss:0.14783017337322235\n",
      "Train: batch: 570/750, Average loss:0.2376258038180439, Current loss:0.19261012971401215\n",
      "Train: batch: 580/750, Average loss:0.2363315110640793, Current loss:0.13046090304851532\n",
      "Train: batch: 590/750, Average loss:0.23464028068139392, Current loss:0.14933007955551147\n",
      "Train: batch: 600/750, Average loss:0.2336395087155203, Current loss:0.17397363483905792\n",
      "Train: batch: 610/750, Average loss:0.2323395410949578, Current loss:0.132058247923851\n",
      "Train: batch: 620/750, Average loss:0.23099591491082982, Current loss:0.15956631302833557\n",
      "Train: batch: 630/750, Average loss:0.22954638650611278, Current loss:0.09431511908769608\n",
      "Train: batch: 640/750, Average loss:0.22822625563130713, Current loss:0.12457537651062012\n",
      "Train: batch: 650/750, Average loss:0.22679370985008204, Current loss:0.14545109868049622\n",
      "Train: batch: 660/750, Average loss:0.22538395224308425, Current loss:0.0985957458615303\n",
      "Train: batch: 670/750, Average loss:0.2240931509646462, Current loss:0.16796347498893738\n",
      "Train: batch: 680/750, Average loss:0.22244274521465687, Current loss:0.12260658293962479\n",
      "Train: batch: 690/750, Average loss:0.22135428212367106, Current loss:0.2345077097415924\n",
      "Train: batch: 700/750, Average loss:0.21999217498515333, Current loss:0.05776028707623482\n",
      "Train: batch: 710/750, Average loss:0.2187042931540751, Current loss:0.10981239378452301\n",
      "Train: batch: 720/750, Average loss:0.21753783262231283, Current loss:0.14761532843112946\n",
      "Train: batch: 730/750, Average loss:0.21614009681833934, Current loss:0.1427605152130127\n",
      "Train: batch: 740/750, Average loss:0.2148034610559006, Current loss:0.07581459730863571\n",
      "Train: batch: 750/750, Average loss:0.21357575234770776, Current loss:0.11500091105699539\n",
      "Train Loss: 0.21357575234770776\n",
      "Valid: batch: 10/94, Average loss:0.03331286478787661, Current Loss:0.052042387425899506\n",
      "Valid: batch: 20/94, Average loss:0.03369965832680464, Current Loss:0.033434152603149414\n",
      "Valid: batch: 30/94, Average loss:0.034077776006112497, Current Loss:0.024945920333266258\n",
      "Valid: batch: 40/94, Average loss:0.030851850064937025, Current Loss:0.025465533137321472\n",
      "Valid: batch: 50/94, Average loss:0.030465540941804647, Current Loss:0.019914528355002403\n",
      "Valid: batch: 60/94, Average loss:0.029365901610193153, Current Loss:0.016283458098769188\n",
      "Valid: batch: 70/94, Average loss:0.028511335840448737, Current Loss:0.055074021220207214\n",
      "Valid: batch: 80/94, Average loss:0.028055331198265775, Current Loss:0.037599802017211914\n",
      "Valid: batch: 90/94, Average loss:0.028649370263641078, Current Loss:0.04639194905757904\n",
      "Valid Loss: 0.028106449196669967\n",
      "BLEU Score after 1 iterations: 0.29240248626989446\n"
     ]
    }
   ],
   "source": [
    "for iter in range(1):\n",
    "    print(f\"Iteration {iter+1}:\")\n",
    "    fine_tune(model, api_train_loader, api_val_loader, epochs=1, learning_rate=1e-6)\n",
    "    print(f\"BLEU Score after {(iter+1)} iterations:\", get_bleu_score(model, tokenizer, api_test_loader, API_Test_DF))"
   ]
  },
  {
   "cell_type": "markdown",
   "metadata": {},
   "source": [
    "## MBPP Dataset"
   ]
  },
  {
   "cell_type": "code",
   "execution_count": 17,
   "metadata": {},
   "outputs": [
    {
     "name": "stdout",
     "output_type": "stream",
     "text": [
      "Iteration 1:\n",
      "Epoch 1/1:\n",
      "Train: batch: 10/98, Average loss:0.10090035013854504, Current loss:0.05275237187743187\n",
      "Train: batch: 20/98, Average loss:0.0918101727962494, Current loss:0.08922037482261658\n",
      "Train: batch: 30/98, Average loss:0.08622863839070002, Current loss:0.04046088084578514\n",
      "Train: batch: 40/98, Average loss:0.0826756063848734, Current loss:0.025000154972076416\n",
      "Train: batch: 50/98, Average loss:0.08427223935723305, Current loss:0.11450810730457306\n",
      "Train: batch: 60/98, Average loss:0.08118659012640515, Current loss:0.06415283679962158\n",
      "Train: batch: 70/98, Average loss:0.08036466078566654, Current loss:0.04563227668404579\n",
      "Train: batch: 80/98, Average loss:0.08089310105424374, Current loss:0.0637287124991417\n",
      "Train: batch: 90/98, Average loss:0.08174063333620628, Current loss:0.11672080308198929\n",
      "Train: batch: 98/98, Average loss:0.08078702487887776, Current loss:0.04552919417619705\n",
      "Train Loss: 0.08078702487887776\n",
      "Valid: batch: 10/13, Average loss:0.039674695767462256, Current Loss:0.03869936987757683\n",
      "Valid Loss: 0.03715687516467789\n",
      "BLEU score after 1 iterations: 0.12827463159596234\n",
      "Iteration 2:\n",
      "Epoch 1/1:\n",
      "Train: batch: 10/98, Average loss:0.08034930136054755, Current loss:0.11534189432859421\n",
      "Train: batch: 20/98, Average loss:0.08809610558673739, Current loss:0.04283713176846504\n",
      "Train: batch: 30/98, Average loss:0.07984047327190638, Current loss:0.09959042817354202\n",
      "Train: batch: 40/98, Average loss:0.07989769051782787, Current loss:0.04586859047412872\n",
      "Train: batch: 50/98, Average loss:0.08012857254594564, Current loss:0.06807732582092285\n",
      "Train: batch: 60/98, Average loss:0.07917160363867878, Current loss:0.08609620481729507\n",
      "Train: batch: 70/98, Average loss:0.07992385572620801, Current loss:0.09993751347064972\n",
      "Train: batch: 80/98, Average loss:0.07580892950063571, Current loss:0.01469967607408762\n",
      "Train: batch: 90/98, Average loss:0.07703841013006038, Current loss:0.07610354572534561\n",
      "Train: batch: 98/98, Average loss:0.0776101652893941, Current loss:0.15778009593486786\n",
      "Train Loss: 0.0776101652893941\n",
      "Valid: batch: 10/13, Average loss:0.03865719614550471, Current Loss:0.03721921145915985\n",
      "Valid Loss: 0.036122518040848754\n",
      "BLEU score after 2 iterations: 0.12855320093463174\n"
     ]
    }
   ],
   "source": [
    "for iter in range(2):\n",
    "    print(f\"Iteration {iter+1}:\")\n",
    "    fine_tune(model, mbpp_train_loader, mbpp_val_loader, epochs=1, learning_rate=1e-6)\n",
    "    print(f\"BLEU score after {(iter+1)} iterations:\", get_bleu_score(model, tokenizer, mbpp_test_loader, MBPP_Test_DF))"
   ]
  },
  {
   "cell_type": "markdown",
   "metadata": {},
   "source": [
    "## Remove the masks (make them permanent)"
   ]
  },
  {
   "cell_type": "code",
   "execution_count": 18,
   "metadata": {},
   "outputs": [],
   "source": [
    "for module, _ in parameters_to_prune:\n",
    "    prune.remove(module, 'weight')"
   ]
  },
  {
   "cell_type": "markdown",
   "metadata": {},
   "source": [
    "# Performance after Fine-tuning"
   ]
  },
  {
   "cell_type": "markdown",
   "metadata": {},
   "source": [
    "## MBPP Dataset"
   ]
  },
  {
   "cell_type": "code",
   "execution_count": 19,
   "metadata": {},
   "outputs": [
    {
     "name": "stdout",
     "output_type": "stream",
     "text": [
      "BLEU score: 0.12855320093463174\n"
     ]
    }
   ],
   "source": [
    "print(\"BLEU score:\", get_bleu_score(model, tokenizer, mbpp_test_loader, MBPP_Test_DF))"
   ]
  },
  {
   "cell_type": "markdown",
   "metadata": {},
   "source": [
    "## Python-API Dataset"
   ]
  },
  {
   "cell_type": "code",
   "execution_count": 20,
   "metadata": {},
   "outputs": [
    {
     "name": "stdout",
     "output_type": "stream",
     "text": [
      "BLEU Score: 0.2917530479398626\n"
     ]
    }
   ],
   "source": [
    "print(\"BLEU Score:\", get_bleu_score(model, tokenizer, api_test_loader, API_Test_DF))"
   ]
  },
  {
   "cell_type": "markdown",
   "metadata": {},
   "source": [
    "# Save Model"
   ]
  },
  {
   "cell_type": "code",
   "execution_count": 21,
   "metadata": {},
   "outputs": [
    {
     "data": {
      "text/plain": [
       "('model/magnitude_pruning_20/tokenizer_config.json',\n",
       " 'model/magnitude_pruning_20/special_tokens_map.json',\n",
       " 'model/magnitude_pruning_20/vocab.json',\n",
       " 'model/magnitude_pruning_20/merges.txt',\n",
       " 'model/magnitude_pruning_20/added_tokens.json')"
      ]
     },
     "execution_count": 21,
     "metadata": {},
     "output_type": "execute_result"
    }
   ],
   "source": [
    "model.save_pretrained('model/magnitude_pruning_20')\n",
    "tokenizer.save_pretrained('model/magnitude_pruning_20')"
   ]
  }
 ],
 "metadata": {
  "kernelspec": {
   "display_name": "base",
   "language": "python",
   "name": "python3"
  },
  "language_info": {
   "codemirror_mode": {
    "name": "ipython",
    "version": 3
   },
   "file_extension": ".py",
   "mimetype": "text/x-python",
   "name": "python",
   "nbconvert_exporter": "python",
   "pygments_lexer": "ipython3",
   "version": "3.10.15"
  }
 },
 "nbformat": 4,
 "nbformat_minor": 2
}
